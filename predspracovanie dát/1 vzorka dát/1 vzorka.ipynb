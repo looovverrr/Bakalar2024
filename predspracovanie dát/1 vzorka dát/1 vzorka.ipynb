{
 "cells": [
  {
   "cell_type": "code",
   "execution_count": 230,
   "id": "5d36ba37-8f1f-4d69-8569-f0115dd64785",
   "metadata": {},
   "outputs": [],
   "source": [
    "import pandas as pd\n",
    "import matplotlib.pyplot as plt\n",
    "import seaborn as sns"
   ]
  },
  {
   "cell_type": "code",
   "execution_count": 231,
   "id": "fb24729a-cfec-4275-b9cf-bd3dfe479cc4",
   "metadata": {},
   "outputs": [],
   "source": [
    "df = pd.read_csv('main.csv')"
   ]
  },
  {
   "cell_type": "code",
   "execution_count": 232,
   "id": "8c43f73b-b337-4ec3-8034-f81b01ade515",
   "metadata": {},
   "outputs": [
    {
     "name": "stdout",
     "output_type": "stream",
     "text": [
      "Start Date                                                        1\n",
      "End Date                                                          1\n",
      "I identify as having a mental illness                             0\n",
      "Education                                                         0\n",
      "I have my own computer separate from a smart phone                0\n",
      "I have been hospitalized before for my mental illness             0\n",
      "How many days were you hospitalized for your mental illness      37\n",
      "I am currently employed at least part-time                        0\n",
      "I am legally disabled                                             0\n",
      "I have my regular access to the internet                          0\n",
      "I live with my parents                                            0\n",
      "I have a gap in my resume                                         0\n",
      "Total length                                                      0\n",
      "Annual income (including any social welfare programs) in USD      0\n",
      "I am unemployed                                                   0\n",
      "I read outside of work and school                                 0\n",
      "Annual income from social welfare programs                        0\n",
      "I receive food stamps                                             0\n",
      "I am on section 8 housing                                         0\n",
      "How many times were you hospitalized for your mental illness      0\n",
      "Lack of concentration                                           283\n",
      "Unnamed: 28                                                     234\n",
      "Unnamed: 29                                                     248\n",
      "Unnamed: 30                                                     292\n",
      "Unnamed: 31                                                     296\n",
      "Unnamed: 32                                                     285\n",
      "Unnamed: 33                                                     305\n",
      "Unnamed: 34                                                     234\n",
      "Age                                                               0\n",
      "Gender                                                            0\n",
      "Household Income                                                  0\n",
      "Region                                                            2\n",
      "Device Type                                                       0\n",
      "dtype: int64\n"
     ]
    }
   ],
   "source": [
    "df = df.drop(columns=['Collector ID', 'IP Address', 'Email Address', 'Custom Data 1','Respondent ID','First Name','Last Name'])\n",
    "print(df.isnull().sum())"
   ]
  },
  {
   "cell_type": "code",
   "execution_count": 233,
   "id": "1c361b38-91c0-4634-9ac0-dd51ce139e39",
   "metadata": {},
   "outputs": [],
   "source": [
    "df.rename(columns={'Unnamed: 28': 'Anxiety'}, inplace=True)\n",
    "df.rename(columns={'Unnamed: 28': 'Anxiety'}, inplace=True)\n",
    "df.rename(columns={'Unnamed: 29': 'Depression'}, inplace=True)\n",
    "df.rename(columns={'Unnamed: 31': 'Mood Swings'}, inplace=True)\n",
    "df.rename(columns={'Unnamed: 32': 'Panic attacks'}, inplace=True)\n",
    "df.rename(columns={'Unnamed: 33': 'Compulsive behavior'}, inplace=True)\n",
    "df.rename(columns={'Unnamed: 30': 'Obsessive thinking'}, inplace=True)\n",
    "df.rename(columns={'Unnamed: 34': 'Tiredness'}, inplace=True)"
   ]
  },
  {
   "cell_type": "code",
   "execution_count": 234,
   "id": "317fb6d7-1045-46c2-9563-6dc2a3b256e2",
   "metadata": {},
   "outputs": [],
   "source": [
    "df['Anxiety'].fillna(0, inplace=True)\n",
    "df['Anxiety'] = df['Anxiety'].apply(lambda x: 1 if x != 0 else 0)\n",
    "df['Depression'].fillna(0, inplace=True)\n",
    "df['Depression'] = df['Depression'].apply(lambda x: 1 if x != 0 else 0)\n",
    "df['Mood Swings'].fillna(0, inplace=True)\n",
    "df['Mood Swings'] = df['Mood Swings'].apply(lambda x: 1 if x != 0 else 0)\n",
    "df['Panic attacks'].fillna(0, inplace=True)\n",
    "df['Panic attacks'] = df['Panic attacks'].apply(lambda x: 1 if x != 0 else 0)\n",
    "df['Compulsive behavior'].fillna(0, inplace=True)\n",
    "df['Compulsive behavior'] = df['Compulsive behavior'].apply(lambda x: 1 if x != 0 else 0)\n",
    "df['Obsessive thinking'].fillna(0, inplace=True)\n",
    "df['Obsessive thinking'] = df['Obsessive thinking'].apply(lambda x: 1 if x != 0 else 0)\n",
    "df['Tiredness'].fillna(0, inplace=True)\n",
    "df['Tiredness'] = df['Tiredness'].apply(lambda x: 1 if x != 0 else 0)\n",
    "df['Lack of concentration'].fillna(0, inplace=True)\n",
    "df['Lack of concentration'] = df['Lack of concentration'].apply(lambda x: 1 if x != 0 else 0)"
   ]
  },
  {
   "cell_type": "code",
   "execution_count": 235,
   "id": "0df3443b-b072-4daf-9c67-e9f71c8cae96",
   "metadata": {},
   "outputs": [],
   "source": [
    "df = df.iloc[1:]"
   ]
  },
  {
   "cell_type": "code",
   "execution_count": 236,
   "id": "64e559cf-6481-43c1-bce9-c4caf311fcd6",
   "metadata": {},
   "outputs": [],
   "source": [
    "df.rename(columns={'I identify as having a mental illness':'MentallyIll'}, inplace =True)\n",
    "df.rename(columns={'I am unemployed':'Unemployed'}, inplace =True)\n",
    "df.rename(columns={'Annual income (including any social welfare programs) in USD':'Annual'}, inplace =True)"
   ]
  },
  {
   "cell_type": "code",
   "execution_count": 237,
   "id": "37cbe1aa-9d45-46af-a1d8-e65b8b407f8b",
   "metadata": {},
   "outputs": [
    {
     "name": "stdout",
     "output_type": "stream",
     "text": [
      "Среднее количество дней госпитализации (без учета исключенных значений): 3.276094276094276\n"
     ]
    }
   ],
   "source": [
    "excluded_values = ['0', '35', '65', '20', '78', '44', '60', '13', '8', '1', '91', '14', '5', '21', '99', '2', '6', '100', '42', '3', '28', '15', '10', '27', '43']\n",
    "df['How many days were you hospitalized for your mental illness'] = pd.to_numeric(df['How many days were you hospitalized for your mental illness'], errors='coerce')\n",
    "filtered_values = df[~df['How many days were you hospitalized for your mental illness'].isin(excluded_values)]\n",
    "mean_hospitalization_days = filtered_values['How many days were you hospitalized for your mental illness'].mean()\n",
    "print(\"Среднее количество дней госпитализации (без учета исключенных значений):\", mean_hospitalization_days)"
   ]
  },
  {
   "cell_type": "code",
   "execution_count": 238,
   "id": "569cf546-1019-465d-be6b-fab8962960d7",
   "metadata": {},
   "outputs": [],
   "source": [
    "top_two_incomes = df[df['Household Income'] != 'Prefer not to answer']['Household Income'].value_counts().index[:3]"
   ]
  },
  {
   "cell_type": "code",
   "execution_count": 239,
   "id": "43bbe5f6-e22d-40b2-a116-ab302730491e",
   "metadata": {},
   "outputs": [],
   "source": [
    "df = df.replace(to_replace=['No', 'Yes'], value=[0, 1])"
   ]
  },
  {
   "cell_type": "code",
   "execution_count": 240,
   "id": "ccfadda5-5c25-45c9-9df0-725252a85001",
   "metadata": {},
   "outputs": [],
   "source": [
    "df['Start Date'] = pd.to_datetime(df['Start Date'])\n",
    "df['End Date'] = pd.to_datetime(df['End Date'])\n",
    "df['duration'] = df['End Date'] - df['Start Date']"
   ]
  },
  {
   "cell_type": "code",
   "execution_count": 241,
   "id": "bdd462c9-9cc8-44b0-8de1-1f320a563d00",
   "metadata": {},
   "outputs": [],
   "source": [
    "df = df.drop(['Start Date', 'End Date'], axis=1)"
   ]
  },
  {
   "cell_type": "code",
   "execution_count": 242,
   "id": "e97d8751-e2d3-4c0a-964a-a6d4e6a608c3",
   "metadata": {},
   "outputs": [],
   "source": [
    "df['duration'] = pd.to_timedelta(df['duration'])\n",
    "df['duration_seconds'] = df['duration'].dt.total_seconds()"
   ]
  },
  {
   "cell_type": "code",
   "execution_count": 243,
   "id": "9c7f1a69-fbbc-41c8-b59f-56ee9e691d3f",
   "metadata": {},
   "outputs": [],
   "source": [
    "df = df.drop(columns=['duration'])"
   ]
  },
  {
   "cell_type": "code",
   "execution_count": 244,
   "id": "f5169afe-6c4e-4f75-88e8-c75b93a6dc53",
   "metadata": {},
   "outputs": [],
   "source": [
    "mask = df['MentallyIll'] == 0\n",
    "df.loc[mask, 'How many days were you hospitalized for your mental illness'] = df.loc[mask, 'How many days were you hospitalized for your mental illness'].fillna(0)"
   ]
  },
  {
   "cell_type": "code",
   "execution_count": 245,
   "id": "8a53e08f-cd4c-4169-80e6-ac0b2c67194c",
   "metadata": {},
   "outputs": [
    {
     "data": {
      "text/plain": [
       "MentallyIll                                                     0\n",
       "Education                                                       0\n",
       "I have my own computer separate from a smart phone              0\n",
       "I have been hospitalized before for my mental illness           0\n",
       "How many days were you hospitalized for your mental illness     5\n",
       "I am currently employed at least part-time                      0\n",
       "I am legally disabled                                           0\n",
       "I have my regular access to the internet                        0\n",
       "I live with my parents                                          0\n",
       "I have a gap in my resume                                       0\n",
       "Total length                                                    0\n",
       "Annual                                                          0\n",
       "Unemployed                                                      0\n",
       "I read outside of work and school                               0\n",
       "Annual income from social welfare programs                      0\n",
       "I receive food stamps                                           0\n",
       "I am on section 8 housing                                       0\n",
       "How many times were you hospitalized for your mental illness    0\n",
       "Lack of concentration                                           0\n",
       "Anxiety                                                         0\n",
       "Depression                                                      0\n",
       "Obsessive thinking                                              0\n",
       "Mood Swings                                                     0\n",
       "Panic attacks                                                   0\n",
       "Compulsive behavior                                             0\n",
       "Tiredness                                                       0\n",
       "Age                                                             0\n",
       "Gender                                                          0\n",
       "Household Income                                                0\n",
       "Region                                                          2\n",
       "Device Type                                                     0\n",
       "duration_seconds                                                0\n",
       "dtype: int64"
      ]
     },
     "execution_count": 245,
     "metadata": {},
     "output_type": "execute_result"
    }
   ],
   "source": [
    "df.isnull().sum()"
   ]
  },
  {
   "cell_type": "code",
   "execution_count": 246,
   "id": "d4f6238c-e17b-4f75-952a-1c7cf4bf6f94",
   "metadata": {},
   "outputs": [],
   "source": [
    "filtered_df = df[(df['How many days were you hospitalized for your mental illness'].isnull()) | \n",
    "                 (df['Region'].isnull()) |\n",
    "                 (df['Household Income'] == 'Prefer not to answer') |\n",
    "                 (df['Device Type'] == 'Other')]\n",
    "df.drop(filtered_df.index, inplace=True)\n",
    "filtered_df.to_csv('null_data.csv', index=False)"
   ]
  },
  {
   "cell_type": "code",
   "execution_count": 247,
   "id": "fffb48ef-916d-4f17-92c8-0f6288d2104b",
   "metadata": {},
   "outputs": [],
   "source": [
    "df1=pd.read_csv(\"null_data.csv\")"
   ]
  },
  {
   "cell_type": "code",
   "execution_count": 248,
   "id": "ddb5c953-0690-41ae-927b-26b7b28d852d",
   "metadata": {},
   "outputs": [],
   "source": [
    "df1['Device Type'] = df1['Device Type'].replace('Other', 'Windows Desktop / Laptop')"
   ]
  },
  {
   "cell_type": "code",
   "execution_count": 249,
   "id": "8e5bc775-88a7-445a-95c0-7d81fe38ce98",
   "metadata": {},
   "outputs": [],
   "source": [
    "region_counts = df['Region'].value_counts()\n",
    "most_common_region = region_counts.idxmax()\n",
    "df1['Region'].fillna(most_common_region, inplace=True)"
   ]
  },
  {
   "cell_type": "code",
   "execution_count": 209,
   "id": "1e0d9940-a7bd-457e-b790-5c657c7ffde5",
   "metadata": {},
   "outputs": [
    {
     "data": {
      "text/plain": [
       "'South Atlantic'"
      ]
     },
     "execution_count": 209,
     "metadata": {},
     "output_type": "execute_result"
    }
   ],
   "source": [
    "most_common_region "
   ]
  },
  {
   "cell_type": "code",
   "execution_count": 250,
   "id": "72c140f4-32bd-40ca-a6ce-f25b7b19ece2",
   "metadata": {},
   "outputs": [
    {
     "data": {
      "text/plain": [
       "False    46\n",
       "Name: Region, dtype: int64"
      ]
     },
     "execution_count": 250,
     "metadata": {},
     "output_type": "execute_result"
    }
   ],
   "source": [
    "df1[\"Region\"].isnull().value_counts()"
   ]
  },
  {
   "cell_type": "code",
   "execution_count": 251,
   "id": "c949ad6f-7747-4f0c-ab3c-28c85d6a812f",
   "metadata": {},
   "outputs": [],
   "source": [
    "df1['How many days were you hospitalized for your mental illness'].fillna(mean_hospitalization_days, inplace=True)"
   ]
  },
  {
   "cell_type": "code",
   "execution_count": 252,
   "id": "09efe963-0cb5-4809-85d2-483045715780",
   "metadata": {},
   "outputs": [],
   "source": [
    "import random\n",
    "probabilities = [0.6, 0.4,0.1]\n",
    "for index, row in df1.iterrows():\n",
    "    if row['Household Income'] == 'Prefer not to answer':\n",
    "        replacement_value = random.choices(top_two_incomes, weights=probabilities)[0]\n",
    "        df1.at[index, 'Household Income'] = replacement_value"
   ]
  },
  {
   "cell_type": "code",
   "execution_count": 253,
   "id": "c9048d60-69c5-4cea-b3a8-2750b4d30b71",
   "metadata": {},
   "outputs": [],
   "source": [
    "df['Household Income'] = df['Household Income'].str.replace('$', '', regex=True).str.replace(',', '', regex=True)\n",
    "\n",
    "df['Household Income'] = df['Household Income'].str.replace('+', '-', regex=True)\n",
    "df[['Lower_Household_Income', 'Upper_Household_Income']] = df['Household Income'].str.split('-', expand=True)\n",
    "\n",
    "df['Lower_Household_Income'] = pd.to_numeric(df['Lower_Household_Income'], errors='coerce')\n",
    "df['Upper_Household_Income'] = pd.to_numeric(df['Upper_Household_Income'], errors='coerce')\n",
    "\n",
    "df['Upper_Household_Income'].fillna(999999, inplace=True)\n",
    "df.drop('Household Income', axis=1, inplace=True)\n"
   ]
  },
  {
   "cell_type": "code",
   "execution_count": 254,
   "id": "5fa476ac-8aa5-4011-ab4e-9d6b3bbc1d74",
   "metadata": {},
   "outputs": [],
   "source": [
    "df1['Household Income'] = df1['Household Income'].str.replace('$', '', regex=True).str.replace(',', '', regex=True)\n",
    "\n",
    "df1['Household Income'] = df1['Household Income'].str.replace('+', '-', regex=True)\n",
    "df1[['Lower_Household_Income', 'Upper_Household_Income']] = df1['Household Income'].str.split('-', expand=True)\n",
    "\n",
    "df1['Lower_Household_Income'] = pd.to_numeric(df1['Lower_Household_Income'], errors='coerce')\n",
    "df1['Upper_Household_Income'] = pd.to_numeric(df1['Upper_Household_Income'], errors='coerce')\n",
    "\n",
    "df1['Upper_Household_Income'].fillna(999999, inplace=True)\n",
    "df1.drop('Household Income', axis=1, inplace=True)\n"
   ]
  },
  {
   "cell_type": "code",
   "execution_count": 255,
   "id": "af0efafe-cbf8-476d-a916-12346a7d6967",
   "metadata": {},
   "outputs": [
    {
     "data": {
      "text/plain": [
       "MentallyIll                                                     0\n",
       "Education                                                       0\n",
       "I have my own computer separate from a smart phone              0\n",
       "I have been hospitalized before for my mental illness           0\n",
       "How many days were you hospitalized for your mental illness     0\n",
       "I am currently employed at least part-time                      0\n",
       "I am legally disabled                                           0\n",
       "I have my regular access to the internet                        0\n",
       "I live with my parents                                          0\n",
       "I have a gap in my resume                                       0\n",
       "Total length                                                    0\n",
       "Annual                                                          0\n",
       "Unemployed                                                      0\n",
       "I read outside of work and school                               0\n",
       "Annual income from social welfare programs                      0\n",
       "I receive food stamps                                           0\n",
       "I am on section 8 housing                                       0\n",
       "How many times were you hospitalized for your mental illness    0\n",
       "Lack of concentration                                           0\n",
       "Anxiety                                                         0\n",
       "Depression                                                      0\n",
       "Obsessive thinking                                              0\n",
       "Mood Swings                                                     0\n",
       "Panic attacks                                                   0\n",
       "Compulsive behavior                                             0\n",
       "Tiredness                                                       0\n",
       "Age                                                             0\n",
       "Gender                                                          0\n",
       "Region                                                          0\n",
       "Device Type                                                     0\n",
       "duration_seconds                                                0\n",
       "Lower_Household_Income                                          0\n",
       "Upper_Household_Income                                          0\n",
       "dtype: int64"
      ]
     },
     "execution_count": 255,
     "metadata": {},
     "output_type": "execute_result"
    }
   ],
   "source": [
    "df.isnull().sum()"
   ]
  },
  {
   "cell_type": "code",
   "execution_count": 256,
   "id": "8c53d8bb-93fa-4b1a-93ec-abb1c2680c97",
   "metadata": {},
   "outputs": [],
   "source": [
    "df = pd.get_dummies(df, columns=['Education', 'Region','Gender','Age','Device Type'])"
   ]
  },
  {
   "cell_type": "code",
   "execution_count": 257,
   "id": "ae7e509e-d336-44f4-988b-1d7b98636ece",
   "metadata": {},
   "outputs": [],
   "source": [
    "df1 = pd.get_dummies(df1, columns=['Education', 'Region','Gender','Age','Device Type'])"
   ]
  },
  {
   "cell_type": "code",
   "execution_count": 258,
   "id": "c3ed9783-bd3a-42a4-9ff8-4d4e653c16b8",
   "metadata": {},
   "outputs": [],
   "source": [
    "from sklearn.model_selection import train_test_split\n",
    "stratify_column = 'Unemployed'\n",
    "train_df, test_df = train_test_split(df, test_size=0.35, stratify=df[stratify_column], random_state=42)\n",
    "train_df.to_csv('train_data.csv', index=False)\n",
    "test_df.to_csv('test_data.csv', index=False)"
   ]
  },
  {
   "cell_type": "code",
   "execution_count": 259,
   "id": "e7bb7061-57ce-4313-ae04-5cbcfbf02d20",
   "metadata": {},
   "outputs": [],
   "source": [
    "train_df=pd.read_csv(\"train_data.csv\")"
   ]
  },
  {
   "cell_type": "code",
   "execution_count": 260,
   "id": "9a554ea8-6ce2-4e5a-a69f-a5da875440d8",
   "metadata": {},
   "outputs": [],
   "source": [
    "merged_df = pd.concat([df1, train_df], ignore_index=True)"
   ]
  },
  {
   "cell_type": "code",
   "execution_count": 261,
   "id": "24bce190-3552-4534-bd01-f7b963f24cb9",
   "metadata": {},
   "outputs": [],
   "source": [
    "merged_df.fillna(0, inplace=True)"
   ]
  },
  {
   "cell_type": "code",
   "execution_count": 262,
   "id": "78988b20-130e-406e-87d9-05e2241cbd68",
   "metadata": {},
   "outputs": [],
   "source": [
    "merged_df.to_csv('trainschybou.csv', index=False)"
   ]
  },
  {
   "cell_type": "code",
   "execution_count": 263,
   "id": "fac9e39a-b7e8-4d25-ac78-7563064cb73c",
   "metadata": {},
   "outputs": [
    {
     "data": {
      "text/plain": [
       "0    171\n",
       "1     62\n",
       "Name: Unemployed, dtype: int64"
      ]
     },
     "execution_count": 263,
     "metadata": {},
     "output_type": "execute_result"
    }
   ],
   "source": [
    "merged_df['Unemployed'].value_counts()"
   ]
  }
 ],
 "metadata": {
  "kernelspec": {
   "display_name": "Python 3 (ipykernel)",
   "language": "python",
   "name": "python3"
  },
  "language_info": {
   "codemirror_mode": {
    "name": "ipython",
    "version": 3
   },
   "file_extension": ".py",
   "mimetype": "text/x-python",
   "name": "python",
   "nbconvert_exporter": "python",
   "pygments_lexer": "ipython3",
   "version": "3.10.6"
  }
 },
 "nbformat": 4,
 "nbformat_minor": 5
}
