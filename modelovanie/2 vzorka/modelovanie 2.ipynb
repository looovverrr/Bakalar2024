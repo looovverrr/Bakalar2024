{
 "cells": [
  {
   "cell_type": "code",
   "execution_count": 2,
   "id": "10dc78af-788e-46b1-ba3a-a40c635f10ba",
   "metadata": {},
   "outputs": [
    {
     "name": "stdout",
     "output_type": "stream",
     "text": [
      "Collecting imblearn\n",
      "  Downloading imblearn-0.0-py2.py3-none-any.whl (1.9 kB)\n",
      "Collecting imbalanced-learn\n",
      "  Downloading imbalanced_learn-0.12.2-py3-none-any.whl (257 kB)\n",
      "\u001b[2K     \u001b[90m━━━━━━━━━━━━━━━━━━━━━━━━━━━━━━━━━━━━━━━\u001b[0m \u001b[32m258.0/258.0 kB\u001b[0m \u001b[31m8.2 MB/s\u001b[0m eta \u001b[36m0:00:00\u001b[0m\n",
      "\u001b[?25hRequirement already satisfied: scikit-learn>=1.0.2 in /opt/conda/lib/python3.10/site-packages (from imbalanced-learn->imblearn) (1.1.2)\n",
      "Requirement already satisfied: numpy>=1.17.3 in /opt/conda/lib/python3.10/site-packages (from imbalanced-learn->imblearn) (1.22.4)\n",
      "Collecting joblib>=1.1.1\n",
      "  Downloading joblib-1.4.2-py3-none-any.whl (301 kB)\n",
      "\u001b[2K     \u001b[90m━━━━━━━━━━━━━━━━━━━━━━━━━━━━━━━━━━━━━━\u001b[0m \u001b[32m301.8/301.8 kB\u001b[0m \u001b[31m10.7 MB/s\u001b[0m eta \u001b[36m0:00:00\u001b[0m\n",
      "\u001b[?25hRequirement already satisfied: scipy>=1.5.0 in /opt/conda/lib/python3.10/site-packages (from imbalanced-learn->imblearn) (1.9.1)\n",
      "Requirement already satisfied: threadpoolctl>=2.0.0 in /opt/conda/lib/python3.10/site-packages (from imbalanced-learn->imblearn) (3.1.0)\n",
      "Installing collected packages: joblib, imbalanced-learn, imblearn\n",
      "  Attempting uninstall: joblib\n",
      "    Found existing installation: joblib 1.1.0\n",
      "    Uninstalling joblib-1.1.0:\n",
      "      Successfully uninstalled joblib-1.1.0\n",
      "Successfully installed imbalanced-learn-0.12.2 imblearn-0.0 joblib-1.4.2\n",
      "Note: you may need to restart the kernel to use updated packages.\n"
     ]
    }
   ],
   "source": [
    "pip install imblearn"
   ]
  },
  {
   "cell_type": "code",
   "execution_count": 4,
   "id": "b34053eb-c2ac-4c04-ab36-0f147d951b40",
   "metadata": {},
   "outputs": [
    {
     "name": "stdout",
     "output_type": "stream",
     "text": [
      "Collecting XGBoost\n",
      "  Downloading xgboost-2.0.3-py3-none-manylinux2014_x86_64.whl (297.1 MB)\n",
      "\u001b[2K     \u001b[90m━━━━━━━━━━━━━━━━━━━━━━━━━━━━━━━━━━━━━━━\u001b[0m \u001b[32m297.1/297.1 MB\u001b[0m \u001b[31m6.0 MB/s\u001b[0m eta \u001b[36m0:00:00\u001b[0m00:01\u001b[0m00:01\u001b[0m\n",
      "\u001b[?25hRequirement already satisfied: numpy in /opt/conda/lib/python3.10/site-packages (from XGBoost) (1.22.4)\n",
      "Requirement already satisfied: scipy in /opt/conda/lib/python3.10/site-packages (from XGBoost) (1.9.1)\n",
      "Installing collected packages: XGBoost\n",
      "Successfully installed XGBoost-2.0.3\n",
      "Note: you may need to restart the kernel to use updated packages.\n"
     ]
    }
   ],
   "source": [
    "pip install XGBoost"
   ]
  },
  {
   "cell_type": "code",
   "execution_count": 17,
   "id": "afb15bcf-d7d0-47ef-b31d-f62dbd4d1090",
   "metadata": {},
   "outputs": [],
   "source": [
    "from sklearn.tree import DecisionTreeClassifier\n",
    "from sklearn.model_selection import train_test_split\n",
    "from sklearn.metrics import roc_curve, auc\n",
    "import matplotlib.pyplot as plt\n",
    "from sklearn.metrics import confusion_matrix\n",
    "from sklearn.metrics import classification_report\n",
    "from sklearn.metrics import accuracy_score\n",
    "from sklearn.metrics import roc_auc_score\n",
    "from imblearn.over_sampling import SMOTE\n",
    "from sklearn.ensemble import RandomForestClassifier\n",
    "from sklearn.linear_model import LogisticRegression\n",
    "from sklearn.neighbors import KNeighborsClassifier\n",
    "import seaborn as sns\n",
    "import pandas as pd\n",
    "from imblearn.over_sampling import ADASYN\n",
    "import xgboost as xgb\n",
    "from sklearn.metrics import cohen_kappa_score\n"
   ]
  },
  {
   "cell_type": "markdown",
   "id": "93703bcf-0d54-49e9-ad34-3e77a91c1b05",
   "metadata": {},
   "source": [
    "# Train/Test"
   ]
  },
  {
   "cell_type": "code",
   "execution_count": 2,
   "id": "b7e0ef1a-c2b9-4e61-8ba6-f250c5341594",
   "metadata": {},
   "outputs": [],
   "source": [
    "train_data=pd.read_csv(\"trainschybou.csv\")\n",
    "test_data=pd.read_csv(\"test_data.csv\")"
   ]
  },
  {
   "cell_type": "code",
   "execution_count": 3,
   "id": "ce2d345c-8334-49d8-b78e-5c10cce602bf",
   "metadata": {},
   "outputs": [],
   "source": [
    "train_data=train_data.drop(\"I am currently employed at least part-time\",axis=1)"
   ]
  },
  {
   "cell_type": "code",
   "execution_count": 4,
   "id": "12301b4f-6d21-4636-9e56-797a13a26ce7",
   "metadata": {},
   "outputs": [],
   "source": [
    "test_data=test_data.drop(\"I am currently employed at least part-time\",axis=1)"
   ]
  },
  {
   "cell_type": "code",
   "execution_count": 5,
   "id": "bb3c471b-1551-440e-bcdb-911647332482",
   "metadata": {},
   "outputs": [],
   "source": [
    "columns_order = train_data.columns.tolist()\n",
    "test_data = test_data[columns_order]"
   ]
  },
  {
   "cell_type": "code",
   "execution_count": 6,
   "id": "81923b77-d658-401f-b713-05738fe66478",
   "metadata": {},
   "outputs": [],
   "source": [
    "X_train = train_data.drop('Unemployed', axis=1)\n",
    "y_train = train_data['Unemployed']\n",
    "X_test = test_data.drop('Unemployed', axis=1)\n",
    "y_test = test_data['Unemployed']"
   ]
  },
  {
   "cell_type": "code",
   "execution_count": 7,
   "id": "b7b2ecd9-13d3-409e-bcb7-67736b8935bf",
   "metadata": {},
   "outputs": [
    {
     "data": {
      "text/plain": [
       "0    171\n",
       "1     62\n",
       "Name: Unemployed, dtype: int64"
      ]
     },
     "execution_count": 7,
     "metadata": {},
     "output_type": "execute_result"
    }
   ],
   "source": [
    "train_data[\"Unemployed\"].value_counts()"
   ]
  },
  {
   "cell_type": "code",
   "execution_count": 8,
   "id": "033bd70a-f73f-4376-ab11-b1a041820b88",
   "metadata": {},
   "outputs": [
    {
     "data": {
      "text/plain": [
       "0    77\n",
       "1    24\n",
       "Name: Unemployed, dtype: int64"
      ]
     },
     "execution_count": 8,
     "metadata": {},
     "output_type": "execute_result"
    }
   ],
   "source": [
    "test_data[\"Unemployed\"].value_counts()"
   ]
  },
  {
   "cell_type": "markdown",
   "id": "611ba6ac-1617-4d39-acdc-17031dad9a07",
   "metadata": {},
   "source": [
    "# Decision Tree"
   ]
  },
  {
   "cell_type": "code",
   "execution_count": 90,
   "id": "2812b773-38e3-459e-809f-f658bc1156c6",
   "metadata": {},
   "outputs": [
    {
     "name": "stdout",
     "output_type": "stream",
     "text": [
      "Classification Report:\n",
      "              precision    recall  f1-score   support\n",
      "\n",
      "           0       0.86      0.87      0.86        77\n",
      "           1       0.57      0.54      0.55        24\n",
      "\n",
      "    accuracy                           0.79       101\n",
      "   macro avg       0.71      0.71      0.71       101\n",
      "weighted avg       0.79      0.79      0.79       101\n",
      "\n"
     ]
    }
   ],
   "source": [
    "model = DecisionTreeClassifier(criterion='entropy', max_depth=35, min_samples_split=14, min_samples_leaf=6,random_state=42)\n",
    "model.fit(X_train, y_train)\n",
    "y_pred = model.predict(X_test)\n",
    "print(\"Classification Report:\")\n",
    "print(classification_report(y_test, y_pred))"
   ]
  },
  {
   "cell_type": "code",
   "execution_count": 91,
   "id": "083d7b94-f560-4e89-bab8-ba91b94466ed",
   "metadata": {},
   "outputs": [],
   "source": [
    "y_pred = model.predict(X_test)\n",
    "conf_matrix = confusion_matrix(y_test, y_pred)"
   ]
  },
  {
   "cell_type": "markdown",
   "id": "ac381c3c-cdd6-4f4f-882c-1c32f036470f",
   "metadata": {},
   "source": [
    "# Decision tree+SMOTE"
   ]
  },
  {
   "cell_type": "code",
   "execution_count": 92,
   "id": "d82e6630-a43b-4e4e-9d25-83a73f07ca49",
   "metadata": {},
   "outputs": [
    {
     "name": "stdout",
     "output_type": "stream",
     "text": [
      "Classification Report:\n",
      "              precision    recall  f1-score   support\n",
      "\n",
      "           0       0.91      0.82      0.86        77\n",
      "           1       0.56      0.75      0.64        24\n",
      "\n",
      "    accuracy                           0.80       101\n",
      "   macro avg       0.74      0.78      0.75       101\n",
      "weighted avg       0.83      0.80      0.81       101\n",
      "\n",
      "Kappa: 0.4177875377436179\n"
     ]
    }
   ],
   "source": [
    "smote = SMOTE(random_state=42, k_neighbors=35, sampling_strategy='minority')\n",
    "X_resampled_train, y_resampled_train = smote.fit_resample(X_train, y_train)\n",
    "model1 = DecisionTreeClassifier(criterion='entropy', max_depth=46, min_samples_split=23, min_samples_leaf=13,random_state=42)\n",
    "model1.fit(X_resampled_train, y_resampled_train)\n",
    "y_pred1 = model1.predict(X_test)\n",
    "print(\"Classification Report:\")\n",
    "print(classification_report(y_test, y_pred1))\n",
    "kappa = cohen_kappa_score(y_test, y_pred)\n",
    "\n",
    "print(\"Kappa:\", kappa)"
   ]
  },
  {
   "cell_type": "code",
   "execution_count": 93,
   "id": "382bd848-9d0e-4197-a41b-e43dcb56e08c",
   "metadata": {},
   "outputs": [
    {
     "name": "stdout",
     "output_type": "stream",
     "text": [
      "Sensitivity (True Positive Rate): 0.75\n"
     ]
    }
   ],
   "source": [
    "y_pred1 = model1.predict(X_test)\n",
    "conf_matrix1 = confusion_matrix(y_test, y_pred1)\n",
    "true_positives = conf_matrix1[1, 1]\n",
    "false_negatives = conf_matrix1[1, 0]\n",
    "\n",
    "sensitivity = true_positives / (true_positives + false_negatives)\n",
    "print(\"Sensitivity (True Positive Rate):\", sensitivity)"
   ]
  },
  {
   "cell_type": "code",
   "execution_count": 94,
   "id": "f67424b0-f65e-457c-9aa7-94c04bda69fb",
   "metadata": {},
   "outputs": [
    {
     "data": {
      "text/plain": [
       "0.7962662337662337"
      ]
     },
     "execution_count": 94,
     "metadata": {},
     "output_type": "execute_result"
    }
   ],
   "source": [
    "y_pred_proba1 = model1.predict_proba(X_test)[:, 1]\n",
    "fpr, tpr, thresholds = roc_curve(y_test, y_pred_proba1)\n",
    "roc_auc = auc(fpr, tpr)\n",
    "roc_auc"
   ]
  },
  {
   "cell_type": "markdown",
   "id": "85031f14-7810-451d-9129-1a26683d8fc6",
   "metadata": {},
   "source": [
    "# Decision tree+ADASYN"
   ]
  },
  {
   "cell_type": "code",
   "execution_count": 95,
   "id": "d6e41491-a3ce-4750-b564-2dfe25805cd6",
   "metadata": {},
   "outputs": [
    {
     "name": "stdout",
     "output_type": "stream",
     "text": [
      "Classification Report:\n",
      "              precision    recall  f1-score   support\n",
      "\n",
      "           0       0.89      0.84      0.87        77\n",
      "           1       0.57      0.67      0.62        24\n",
      "\n",
      "    accuracy                           0.80       101\n",
      "   macro avg       0.73      0.76      0.74       101\n",
      "weighted avg       0.81      0.80      0.81       101\n",
      "\n",
      "Kappa: 0.48311156601842375\n"
     ]
    }
   ],
   "source": [
    "adasyn = ADASYN(random_state=42, n_neighbors=14, sampling_strategy='minority')\n",
    "X_resampled_train, y_resampled_train = adasyn.fit_resample(X_train, y_train)\n",
    "model2 = DecisionTreeClassifier(criterion='entropy', max_depth=8, min_samples_split=28, min_samples_leaf=11,random_state=42)\n",
    "model2.fit(X_resampled_train, y_resampled_train)\n",
    "y_pred2 = model2.predict(X_test)\n",
    "print(\"Classification Report:\")\n",
    "print(classification_report(y_test, y_pred2))\n",
    "kappa = cohen_kappa_score(y_test, y_pred2)\n",
    "\n",
    "print(\"Kappa:\", kappa)"
   ]
  },
  {
   "cell_type": "code",
   "execution_count": 96,
   "id": "a1e6705a-01c1-4ceb-bca6-b8f5d6f0c285",
   "metadata": {},
   "outputs": [
    {
     "name": "stdout",
     "output_type": "stream",
     "text": [
      "Sensitivity (True Positive Rate): 0.6666666666666666\n"
     ]
    }
   ],
   "source": [
    "y_pred2 = model2.predict(X_test)\n",
    "conf_matrix2 = confusion_matrix(y_test, y_pred2)\n",
    "true_positives = conf_matrix2[1, 1]\n",
    "false_negatives = conf_matrix2[1, 0]\n",
    "\n",
    "sensitivity = true_positives / (true_positives + false_negatives)\n",
    "print(\"Sensitivity (True Positive Rate):\", sensitivity)"
   ]
  },
  {
   "cell_type": "code",
   "execution_count": 97,
   "id": "f1a7bb2b-7844-43a7-87cf-67e3b3d2ab52",
   "metadata": {},
   "outputs": [
    {
     "data": {
      "text/plain": [
       "0.7729978354978355"
      ]
     },
     "execution_count": 97,
     "metadata": {},
     "output_type": "execute_result"
    }
   ],
   "source": [
    "y_pred_proba2 = model2.predict_proba(X_test)[:, 1]\n",
    "fpr, tpr, thresholds = roc_curve(y_test, y_pred_proba2)\n",
    "roc_auc = auc(fpr, tpr)\n",
    "roc_auc"
   ]
  },
  {
   "cell_type": "code",
   "execution_count": 98,
   "id": "90c50460-01bc-4d72-82ab-65200ff99c18",
   "metadata": {},
   "outputs": [
    {
     "data": {
      "image/png": "[encoded data removed]",
      "text/plain": [
       "<Figure size 1500x500 with 3 Axes>"
      ]
     },
     "metadata": {},
     "output_type": "display_data"
    }
   ],
   "source": [
    "conf_matrices = [conf_matrix, conf_matrix1, conf_matrix2]\n",
    "dark_palette = 'viridis'\n",
    "\n",
    "plt.figure(figsize=(15, 5)) \n",
    "titles = [\"Confusion Matrix DT\", \"Confusion Matrix DT+SMOTE\", \"Confusion Matrix DT+ADASYN\"]\n",
    "for i, (conf_matrix, title) in enumerate(zip(conf_matrices, titles), start=1):\n",
    "    plt.subplot(1, len(conf_matrices), i)\n",
    "    plt.imshow(conf_matrix, cmap=dark_palette, interpolation='nearest')\n",
    "\n",
    "    for x in range(conf_matrix.shape[0]):\n",
    "        for y in range(conf_matrix.shape[1]):\n",
    "            plt.text(y, x, f'{conf_matrix[x, y]}', ha='center', va='center', color='white', fontsize=20)\n",
    "\n",
    "    plt.title(title, fontsize=14, fontweight='bold')\n",
    "    plt.gca().set_xticks([])\n",
    "    plt.gca().set_yticks([])\n",
    "    plt.xlabel('Predicted Label\\n0                  1', fontsize=12)\n",
    "    plt.ylabel('True Label\\n1                       0', fontsize=12)\n",
    "\n",
    "\n",
    "plt.tight_layout()  \n",
    "plt.show()\n"
   ]
  },
  {
   "cell_type": "markdown",
   "id": "0a05bb9c-99ca-476a-b170-d49305d6ce8e",
   "metadata": {},
   "source": [
    "# Random forest"
   ]
  },
  {
   "cell_type": "code",
   "execution_count": 99,
   "id": "1db94159-aa95-42dd-9c39-555c5b100b08",
   "metadata": {},
   "outputs": [
    {
     "name": "stdout",
     "output_type": "stream",
     "text": [
      "Classification Report for the first model:\n",
      "              precision    recall  f1-score   support\n",
      "\n",
      "           0       0.85      0.97      0.91        77\n",
      "           1       0.85      0.46      0.59        24\n",
      "\n",
      "    accuracy                           0.85       101\n",
      "   macro avg       0.85      0.72      0.75       101\n",
      "weighted avg       0.85      0.85      0.83       101\n",
      "\n"
     ]
    }
   ],
   "source": [
    "rf_classifier_first_model = RandomForestClassifier(criterion=\"gini\",n_estimators=44, random_state=42,max_depth=27,min_samples_split=8,min_samples_leaf=1)\n",
    "rf_classifier_first_model.fit(X_train, y_train)\n",
    "y_pred = rf_classifier_first_model.predict(X_test)\n",
    "print(\"Classification Report for the first model:\")\n",
    "print(classification_report(y_test, y_pred))"
   ]
  },
  {
   "cell_type": "code",
   "execution_count": 100,
   "id": "8cd0316b-e838-4652-9af1-2b92e2607af5",
   "metadata": {},
   "outputs": [],
   "source": [
    "cm = confusion_matrix(y_test, y_pred)"
   ]
  },
  {
   "cell_type": "markdown",
   "id": "3295e214-1fe2-4af1-87c1-c7c268dc1197",
   "metadata": {},
   "source": [
    "# Random forest+SMOTE"
   ]
  },
  {
   "cell_type": "code",
   "execution_count": 101,
   "id": "c1798050-2f08-4657-839c-0bcafa445eaa",
   "metadata": {},
   "outputs": [
    {
     "name": "stdout",
     "output_type": "stream",
     "text": [
      "Classification Report for the second model:\n",
      "              precision    recall  f1-score   support\n",
      "\n",
      "           0       0.88      0.83      0.85        77\n",
      "           1       0.54      0.62      0.58        24\n",
      "\n",
      "    accuracy                           0.78       101\n",
      "   macro avg       0.71      0.73      0.72       101\n",
      "weighted avg       0.80      0.78      0.79       101\n",
      "\n",
      "Kappa: 0.43142272262026615\n"
     ]
    }
   ],
   "source": [
    "smote = SMOTE(random_state=42, k_neighbors=32, sampling_strategy='minority')\n",
    "X_resampled_train, y_resampled_train = smote.fit_resample(X_train, y_train)\n",
    "model_RF_second_model = RandomForestClassifier(criterion=\"gini\",n_estimators=27,max_depth=84,min_samples_split=17, min_samples_leaf=2,random_state=42)\n",
    "model_RF_second_model.fit(X_resampled_train, y_resampled_train)\n",
    "\n",
    "y_pred_RF_second_model = model_RF_second_model.predict(X_test)\n",
    "\n",
    "print(\"Classification Report for the second model:\")\n",
    "print(classification_report(y_test, y_pred_RF_second_model))\n",
    "kappa = cohen_kappa_score(y_test, y_pred_RF_second_model)\n",
    "\n",
    "print(\"Kappa:\", kappa)"
   ]
  },
  {
   "cell_type": "code",
   "execution_count": 102,
   "id": "33b3ddd0-f963-4cad-96d3-fc6d5c064704",
   "metadata": {},
   "outputs": [
    {
     "name": "stdout",
     "output_type": "stream",
     "text": [
      "Sensitivity (True Positive Rate): 0.625\n"
     ]
    }
   ],
   "source": [
    "cm1 = confusion_matrix(y_test, y_pred_RF_second_model)\n",
    "true_positives = cm1[1, 1]\n",
    "false_negatives = cm1[1, 0]\n",
    "\n",
    "sensitivity = true_positives / (true_positives + false_negatives)\n",
    "print(\"Sensitivity (True Positive Rate):\", sensitivity)"
   ]
  },
  {
   "cell_type": "code",
   "execution_count": 103,
   "id": "bf83ad25-0236-467e-bfeb-c46695740779",
   "metadata": {},
   "outputs": [
    {
     "data": {
      "text/plain": [
       "0.7775974025974026"
      ]
     },
     "execution_count": 103,
     "metadata": {},
     "output_type": "execute_result"
    }
   ],
   "source": [
    "y_prob_RF_second_model = model_RF_second_model.predict_proba(X_test)[:, 1]\n",
    "fpr, tpr, thresholds = roc_curve(y_test, y_prob_RF_second_model)\n",
    "auc_score = roc_auc_score(y_test, y_prob_RF_second_model)\n",
    "auc_score"
   ]
  },
  {
   "cell_type": "markdown",
   "id": "a0ee41f5-c816-44ae-b0e8-6fef048a18b7",
   "metadata": {},
   "source": [
    "# RF+ADASYN"
   ]
  },
  {
   "cell_type": "code",
   "execution_count": 104,
   "id": "220dd617-6a3f-48a7-913d-581dac1a4ebe",
   "metadata": {},
   "outputs": [
    {
     "name": "stdout",
     "output_type": "stream",
     "text": [
      "Classification Report for the model with ADASYN:\n",
      "              precision    recall  f1-score   support\n",
      "\n",
      "           0       0.91      0.87      0.89        77\n",
      "           1       0.63      0.71      0.67        24\n",
      "\n",
      "    accuracy                           0.83       101\n",
      "   macro avg       0.77      0.79      0.78       101\n",
      "weighted avg       0.84      0.83      0.83       101\n",
      "\n",
      "Kappa: 0.5546044098573282\n"
     ]
    }
   ],
   "source": [
    "adasyn = ADASYN(random_state=42, n_neighbors=20,sampling_strategy='minority')\n",
    "X_resampled_train, y_resampled_train = adasyn.fit_resample(X_train, y_train)\n",
    "model_RF_adasyn = RandomForestClassifier(n_estimators=16,max_depth=37,min_samples_split=5,min_samples_leaf=3,criterion='entropy',random_state=42)\n",
    "model_RF_adasyn.fit(X_resampled_train, y_resampled_train)\n",
    "y_pred_RF_adasyn = model_RF_adasyn.predict(X_test)\n",
    "print(\"Classification Report for the model with ADASYN:\")\n",
    "print(classification_report(y_test, y_pred_RF_adasyn))\n",
    "kappa = cohen_kappa_score(y_test, y_pred_RF_adasyn)\n",
    "\n",
    "print(\"Kappa:\", kappa)"
   ]
  },
  {
   "cell_type": "code",
   "execution_count": 105,
   "id": "959224e8-1835-43dc-b02a-2aebde538319",
   "metadata": {},
   "outputs": [
    {
     "name": "stdout",
     "output_type": "stream",
     "text": [
      "Sensitivity (True Positive Rate): 0.7083333333333334\n"
     ]
    }
   ],
   "source": [
    "cm2 = confusion_matrix(y_test, y_pred_RF_adasyn)\n",
    "true_positives = cm2[1, 1]\n",
    "false_negatives = cm2[1, 0]\n",
    "\n",
    "sensitivity = true_positives / (true_positives + false_negatives)\n",
    "print(\"Sensitivity (True Positive Rate):\", sensitivity)"
   ]
  },
  {
   "cell_type": "code",
   "execution_count": 106,
   "id": "faa0ea07-f643-4a6d-9000-ba226ceaed46",
   "metadata": {},
   "outputs": [
    {
     "data": {
      "text/plain": [
       "0.762987012987013"
      ]
     },
     "execution_count": 106,
     "metadata": {},
     "output_type": "execute_result"
    }
   ],
   "source": [
    "y_prob_RF_adasyn = model_RF_adasyn.predict_proba(X_test)[:, 1]\n",
    "fpr, tpr, thresholds = roc_curve(y_test, y_prob_RF_adasyn)\n",
    "auc_score = roc_auc_score(y_test, y_prob_RF_adasyn)\n",
    "auc_score"
   ]
  },
  {
   "cell_type": "code",
   "execution_count": 107,
   "id": "c118f851-f331-465b-9649-467a196cfdb3",
   "metadata": {},
   "outputs": [
    {
     "data": {
      "image/png": "[encoded data removed]",
      "text/plain": [
       "<Figure size 1500x500 with 3 Axes>"
      ]
     },
     "metadata": {},
     "output_type": "display_data"
    }
   ],
   "source": [
    "conf_matrices = [cm, cm1, cm2]\n",
    "dark_palette = 'viridis'\n",
    "\n",
    "plt.figure(figsize=(15, 5)) \n",
    "titles = [\"Confusion Matrix DT\", \"Confusion Matrix DT+SMOTE\", \"Confusion Matrix DT+ADASYN\"]\n",
    "for i, (conf_matrix, title) in enumerate(zip(conf_matrices, titles), start=1):\n",
    "    plt.subplot(1, len(conf_matrices), i)\n",
    "    plt.imshow(conf_matrix, cmap=dark_palette, interpolation='nearest')\n",
    "\n",
    "    for x in range(conf_matrix.shape[0]):\n",
    "        for y in range(conf_matrix.shape[1]):\n",
    "            plt.text(y, x, f'{conf_matrix[x, y]}', ha='center', va='center', color='white', fontsize=20)\n",
    "\n",
    "    plt.title(title, fontsize=14, fontweight='bold')\n",
    "    plt.gca().set_xticks([])\n",
    "    plt.gca().set_yticks([])\n",
    "    plt.xlabel('Predicted Label\\n0                  1', fontsize=12)\n",
    "    plt.ylabel('True Label\\n1                       0', fontsize=12)\n",
    "\n",
    "\n",
    "plt.tight_layout()  \n",
    "plt.show()\n"
   ]
  },
  {
   "cell_type": "markdown",
   "id": "813a1359-0176-4e54-a921-a01193ae7431",
   "metadata": {},
   "source": [
    "# XGboost"
   ]
  },
  {
   "cell_type": "code",
   "execution_count": 108,
   "id": "702e4897-01be-4c52-8c9e-ea8a50d7d6b0",
   "metadata": {},
   "outputs": [
    {
     "name": "stdout",
     "output_type": "stream",
     "text": [
      "Kappa: 0.4781859931113662\n"
     ]
    }
   ],
   "source": [
    "best_params = {\n",
    "    'booster': 'dart',\n",
    "    'lambda': 4.959633438928117e-07,\n",
    "    'alpha': 3.312347374189632e-08,\n",
    "    'max_depth': 8,\n",
    "    'eta': 0.8735933381256857,\n",
    "    'gamma': 0.0025328078593470174,\n",
    "    'grow_policy': 'depthwise',\n",
    "    'subsample': 0.9,\n",
    "    'colsample_bytree': 0.6\n",
    "}\n",
    "best_model = xgb.XGBClassifier(**best_params)\n",
    "best_model.fit(X_train, y_train)\n",
    "y_pred = best_model.predict(X_test)\n",
    "kappa = cohen_kappa_score(y_test, y_pred)\n",
    "\n",
    "print(\"Kappa:\", kappa)"
   ]
  },
  {
   "cell_type": "code",
   "execution_count": 109,
   "id": "e65f6e43-531f-4b71-b2dc-8fc0a7898051",
   "metadata": {},
   "outputs": [
    {
     "name": "stdout",
     "output_type": "stream",
     "text": [
      "              precision    recall  f1-score   support\n",
      "\n",
      "           0       0.86      0.91      0.89        77\n",
      "           1       0.65      0.54      0.59        24\n",
      "\n",
      "    accuracy                           0.82       101\n",
      "   macro avg       0.76      0.73      0.74       101\n",
      "weighted avg       0.81      0.82      0.82       101\n",
      "\n"
     ]
    }
   ],
   "source": [
    "print(classification_report(y_test, y_pred))"
   ]
  },
  {
   "cell_type": "code",
   "execution_count": 110,
   "id": "f78b7733-a390-4162-b5d3-6323f95cb461",
   "metadata": {},
   "outputs": [],
   "source": [
    "conf_matrix = confusion_matrix(y_test, y_pred)"
   ]
  },
  {
   "cell_type": "markdown",
   "id": "a1bd6327-9f65-441c-a9bc-e71b53f3fbe2",
   "metadata": {},
   "source": [
    "# XGBOOST+SMOTE"
   ]
  },
  {
   "cell_type": "code",
   "execution_count": 111,
   "id": "7823cdff-defa-4b28-b75d-91ca8587c347",
   "metadata": {},
   "outputs": [],
   "source": [
    "smote = SMOTE(random_state=42, k_neighbors=24)\n",
    "X_resampled_train, y_resampled_train = smote.fit_resample(X_train, y_train)"
   ]
  },
  {
   "cell_type": "code",
   "execution_count": 112,
   "id": "30bde77a-ee7a-4cde-93ca-940552995666",
   "metadata": {},
   "outputs": [],
   "source": [
    "best_params = {\n",
    "    'booster': 'gbtree',\n",
    "    'lambda': 7.818916152525012e-07,\n",
    "    'alpha': 0.08066430516451725,\n",
    "    'max_depth': 10,\n",
    "    'eta': 0.0006862420945796243,\n",
    "    'gamma': 0.016260819316083686,\n",
    "    'grow_policy': 'depthwise',\n",
    "    'subsample': 0.7,\n",
    "    'colsample_bytree': 0.9,\n",
    "}\n",
    "\n",
    "model = xgb.XGBClassifier(**best_params)\n",
    "model.fit(X_resampled_train, y_resampled_train)\n",
    "y_pred = model.predict(X_test)"
   ]
  },
  {
   "cell_type": "code",
   "execution_count": 113,
   "id": "5e211790-97e2-433e-b4c9-dc48734e81a6",
   "metadata": {},
   "outputs": [
    {
     "name": "stdout",
     "output_type": "stream",
     "text": [
      "              precision    recall  f1-score   support\n",
      "\n",
      "           0       0.90      0.82      0.86        77\n",
      "           1       0.55      0.71      0.62        24\n",
      "\n",
      "    accuracy                           0.79       101\n",
      "   macro avg       0.72      0.76      0.74       101\n",
      "weighted avg       0.82      0.79      0.80       101\n",
      "\n",
      "Kappa: 0.47848537005163516\n"
     ]
    }
   ],
   "source": [
    "print(classification_report(y_test, y_pred))\n",
    "kappa = cohen_kappa_score(y_test, y_pred)\n",
    "\n",
    "print(\"Kappa:\", kappa)\n"
   ]
  },
  {
   "cell_type": "code",
   "execution_count": 114,
   "id": "8f432d13-6f96-494c-81b2-10f70ecb84fa",
   "metadata": {},
   "outputs": [
    {
     "name": "stdout",
     "output_type": "stream",
     "text": [
      "Sensitivity (True Positive Rate): 0.7083333333333334\n"
     ]
    }
   ],
   "source": [
    "conf_matrix1 = confusion_matrix(y_test, y_pred)\n",
    "true_positives = conf_matrix1[1, 1]\n",
    "false_negatives = conf_matrix1[1, 0]\n",
    "\n",
    "sensitivity = true_positives / (true_positives + false_negatives)\n",
    "print(\"Sensitivity (True Positive Rate):\", sensitivity)"
   ]
  },
  {
   "cell_type": "code",
   "execution_count": 115,
   "id": "504e70f0-3763-4ee1-841f-a45fb4a4bccf",
   "metadata": {},
   "outputs": [
    {
     "data": {
      "text/plain": [
       "0.787878787878788"
      ]
     },
     "execution_count": 115,
     "metadata": {},
     "output_type": "execute_result"
    }
   ],
   "source": [
    "y_prob = model.predict_proba(X_test)[:, 1]\n",
    "\n",
    "fpr, tpr, _ = roc_curve(y_test, y_prob)\n",
    "roc_auc = auc(fpr, tpr)\n",
    "roc_auc"
   ]
  },
  {
   "cell_type": "markdown",
   "id": "07c8a13f-7207-4794-8626-c8cb5c83d475",
   "metadata": {},
   "source": [
    "# XGB+ ADASYN"
   ]
  },
  {
   "cell_type": "code",
   "execution_count": 116,
   "id": "250e3776-361f-401c-9e67-3eb45766c334",
   "metadata": {},
   "outputs": [],
   "source": [
    "smote = ADASYN(random_state=42, n_neighbors=36, sampling_strategy='minority')\n",
    "X_resampled_train, y_resampled_train = smote.fit_resample(X_train, y_train)"
   ]
  },
  {
   "cell_type": "code",
   "execution_count": 117,
   "id": "28d3cb42-b3a8-4514-85c1-519d01506cd4",
   "metadata": {},
   "outputs": [],
   "source": [
    "params = {\n",
    "    'booster': 'gbtree',\n",
    "    'lambda': 0.00042790168140966704,\n",
    "    'alpha': 0.0005206562152570606,\n",
    "    'max_depth': 9,\n",
    "    'eta': 0.007541520907127661,\n",
    "    'gamma': 3.399484892490868e-06,\n",
    "    'grow_policy': 'depthwise',\n",
    "    'subsample': 0.7,\n",
    "    'colsample_bytree': 1.0,\n",
    "}\n",
    "model = xgb.XGBClassifier(**params)\n",
    "model.fit(X_resampled_train, y_resampled_train)\n",
    "y_pred = model.predict(X_test)"
   ]
  },
  {
   "cell_type": "code",
   "execution_count": 118,
   "id": "34ee011a-3c9f-418b-8fbe-d5bb735ffe27",
   "metadata": {},
   "outputs": [
    {
     "name": "stdout",
     "output_type": "stream",
     "text": [
      "              precision    recall  f1-score   support\n",
      "\n",
      "           0       0.91      0.78      0.84        77\n",
      "           1       0.51      0.75      0.61        24\n",
      "\n",
      "    accuracy                           0.77       101\n",
      "   macro avg       0.71      0.76      0.72       101\n",
      "weighted avg       0.82      0.77      0.78       101\n",
      "\n",
      "Kappa: 0.4571161486328581\n"
     ]
    }
   ],
   "source": [
    "print(classification_report(y_test, y_pred))\n",
    "kappa = cohen_kappa_score(y_test, y_pred)\n",
    "\n",
    "print(\"Kappa:\", kappa)"
   ]
  },
  {
   "cell_type": "code",
   "execution_count": 119,
   "id": "9214cc9a-1623-4cda-ba88-16d35bf590b7",
   "metadata": {},
   "outputs": [
    {
     "name": "stdout",
     "output_type": "stream",
     "text": [
      "Sensitivity (True Positive Rate): 0.75\n"
     ]
    }
   ],
   "source": [
    "conf_matrix2 = confusion_matrix(y_test, y_pred)\n",
    "true_positives = conf_matrix2[1, 1]\n",
    "false_negatives = conf_matrix2[1, 0]\n",
    "\n",
    "sensitivity = true_positives / (true_positives + false_negatives)\n",
    "print(\"Sensitivity (True Positive Rate):\", sensitivity)"
   ]
  },
  {
   "cell_type": "code",
   "execution_count": 120,
   "id": "c9a43f90-8682-4f3e-aeee-1ff72bdc2a1d",
   "metadata": {},
   "outputs": [
    {
     "data": {
      "text/plain": [
       "0.7554112554112554"
      ]
     },
     "execution_count": 120,
     "metadata": {},
     "output_type": "execute_result"
    }
   ],
   "source": [
    "y_prob = model.predict_proba(X_test)[:, 1]\n",
    "fpr, tpr, _ = roc_curve(y_test, y_prob)\n",
    "roc_auc = auc(fpr, tpr)\n",
    "roc_auc"
   ]
  },
  {
   "cell_type": "code",
   "execution_count": 121,
   "id": "02a326b1-af17-4418-aea3-60770bc2d13e",
   "metadata": {},
   "outputs": [
    {
     "data": {
      "image/png": "[encoded data removed]",
      "text/plain": [
       "<Figure size 1500x500 with 3 Axes>"
      ]
     },
     "metadata": {},
     "output_type": "display_data"
    }
   ],
   "source": [
    "conf_matrices = [conf_matrix,conf_matrix1,conf_matrix2]\n",
    "dark_palette = 'viridis'\n",
    "\n",
    "plt.figure(figsize=(15, 5)) \n",
    "titles = [\"Confusion Matrix XGBoost\", \"Confusion Matrix XGBoost+SMOTE\", \"Confusion Matrix XGBoost+ADASYN\"]\n",
    "for i, (conf_matrix, title) in enumerate(zip(conf_matrices, titles), start=1):\n",
    "    plt.subplot(1, len(conf_matrices), i)\n",
    "    plt.imshow(conf_matrix, cmap=dark_palette, interpolation='nearest')\n",
    "\n",
    "    for x in range(conf_matrix.shape[0]):\n",
    "        for y in range(conf_matrix.shape[1]):\n",
    "            plt.text(y, x, f'{conf_matrix[x, y]}', ha='center', va='center', color='white', fontsize=20)\n",
    "\n",
    "    plt.title(title, fontsize=14, fontweight='bold') \n",
    "    plt.gca().set_xticks([])\n",
    "    plt.gca().set_yticks([])\n",
    "    plt.xlabel('Predicted Label\\n0                  1', fontsize=12)\n",
    "    plt.ylabel('True Label\\n1                       0', fontsize=12)\n",
    "\n",
    "\n",
    "plt.tight_layout()  \n",
    "plt.show()\n"
   ]
  },
  {
   "cell_type": "markdown",
   "id": "69463ba5-28cc-4a02-949a-e203d18192ab",
   "metadata": {},
   "source": [
    "# KNN"
   ]
  },
  {
   "cell_type": "code",
   "execution_count": 122,
   "id": "cb6696f7-b95b-4eba-b5dd-a28d31ac4120",
   "metadata": {},
   "outputs": [],
   "source": [
    "knn = KNeighborsClassifier(\n",
    "    n_neighbors=6,\n",
    "    weights='distance',  \n",
    "    algorithm='kd_tree',  \n",
    "    leaf_size=30,\n",
    "    p=4, \n",
    ")\n",
    "knn.fit(X_train, y_train)\n",
    "y_pred = knn.predict(X_test)"
   ]
  },
  {
   "cell_type": "code",
   "execution_count": 123,
   "id": "a5a7ba06-9c9f-48c8-be2d-b1bdefc68687",
   "metadata": {},
   "outputs": [
    {
     "name": "stdout",
     "output_type": "stream",
     "text": [
      "Classification Report for the first model:\n",
      "              precision    recall  f1-score   support\n",
      "\n",
      "           0       0.86      0.92      0.89        77\n",
      "           1       0.67      0.50      0.57        24\n",
      "\n",
      "    accuracy                           0.82       101\n",
      "   macro avg       0.76      0.71      0.73       101\n",
      "weighted avg       0.81      0.82      0.81       101\n",
      "\n"
     ]
    }
   ],
   "source": [
    "print(\"Classification Report for the first model:\")\n",
    "print(classification_report(y_test, y_pred))"
   ]
  },
  {
   "cell_type": "code",
   "execution_count": 124,
   "id": "351912d1-ed0c-4201-ab45-0d6bf1a1fa9a",
   "metadata": {},
   "outputs": [],
   "source": [
    "cm = confusion_matrix(y_test, y_pred)"
   ]
  },
  {
   "cell_type": "markdown",
   "id": "21b15c78-26a2-4686-804c-37c866c2750a",
   "metadata": {},
   "source": [
    "# KNN+SMOTE"
   ]
  },
  {
   "cell_type": "code",
   "execution_count": 125,
   "id": "6a4dddfc-35d8-42ab-bb7e-1be9221ddf15",
   "metadata": {},
   "outputs": [
    {
     "name": "stdout",
     "output_type": "stream",
     "text": [
      "Classification Report:\n",
      "              precision    recall  f1-score   support\n",
      "\n",
      "           0       0.90      0.83      0.86        77\n",
      "           1       0.57      0.71      0.63        24\n",
      "\n",
      "    accuracy                           0.80       101\n",
      "   macro avg       0.73      0.77      0.75       101\n",
      "weighted avg       0.82      0.80      0.81       101\n",
      "\n",
      "Kappa: 0.4967613353263578\n"
     ]
    }
   ],
   "source": [
    "model = KNeighborsClassifier(n_neighbors=29, weights='distance', p=4, leaf_size=19, algorithm='ball_tree')\n",
    "smote = SMOTE(k_neighbors=12, random_state=42)\n",
    "X_train_resampled, y_train_resampled = smote.fit_resample(X_train, y_train)\n",
    "model.fit(X_train_resampled, y_train_resampled)\n",
    "y_pred = model.predict(X_test)\n",
    "print(\"Classification Report:\")\n",
    "print(classification_report(y_test, y_pred))\n",
    "kappa = cohen_kappa_score(y_test, y_pred)\n",
    "\n",
    "print(\"Kappa:\", kappa)"
   ]
  },
  {
   "cell_type": "code",
   "execution_count": 126,
   "id": "7087595e-4888-4db1-a4d1-2a1fe9d8874c",
   "metadata": {},
   "outputs": [
    {
     "name": "stdout",
     "output_type": "stream",
     "text": [
      "Sensitivity (True Positive Rate): 0.7083333333333334\n"
     ]
    }
   ],
   "source": [
    "y_pred1 = model.predict(X_test)\n",
    "cm1 = confusion_matrix(y_test, y_pred1)\n",
    "true_positives = cm1[1, 1]\n",
    "false_negatives = cm1[1, 0]\n",
    "\n",
    "sensitivity = true_positives / (true_positives + false_negatives)\n",
    "print(\"Sensitivity (True Positive Rate):\", sensitivity)"
   ]
  },
  {
   "cell_type": "code",
   "execution_count": 127,
   "id": "52f49c01-1c8c-4f4d-bdf7-9b02254b8a9b",
   "metadata": {},
   "outputs": [
    {
     "data": {
      "text/plain": [
       "0.7867965367965368"
      ]
     },
     "execution_count": 127,
     "metadata": {},
     "output_type": "execute_result"
    }
   ],
   "source": [
    "y_pred_proba1 = model.predict_proba(X_test)[:, 1]\n",
    "fpr, tpr, thresholds = roc_curve(y_test, y_pred_proba1)\n",
    "roc_auc = auc(fpr, tpr)\n",
    "roc_auc"
   ]
  },
  {
   "cell_type": "markdown",
   "id": "d92d713e-bc07-46fc-961f-58c3ad11e3bd",
   "metadata": {},
   "source": [
    "# KNN+ADASYN"
   ]
  },
  {
   "cell_type": "code",
   "execution_count": 128,
   "id": "dfc8ba55-54cf-49fd-9188-0072e5a75fc8",
   "metadata": {},
   "outputs": [],
   "source": [
    "adasyn = ADASYN(random_state=42, n_neighbors=14, sampling_strategy='minority')\n",
    "X_resampled_train, y_resampled_train = adasyn.fit_resample(X_train, y_train)"
   ]
  },
  {
   "cell_type": "code",
   "execution_count": 129,
   "id": "32de50b2-01f5-4b1f-b806-8aa392d07d81",
   "metadata": {},
   "outputs": [
    {
     "name": "stdout",
     "output_type": "stream",
     "text": [
      "Classification Report for the first model:\n",
      "              precision    recall  f1-score   support\n",
      "\n",
      "           0       0.91      0.83      0.87        77\n",
      "           1       0.58      0.75      0.65        24\n",
      "\n",
      "    accuracy                           0.81       101\n",
      "   macro avg       0.75      0.79      0.76       101\n",
      "weighted avg       0.84      0.81      0.82       101\n",
      "\n",
      "Kappa: 0.5281534300467174\n"
     ]
    }
   ],
   "source": [
    "knn = KNeighborsClassifier(\n",
    "    n_neighbors=8,\n",
    "    weights='distance', \n",
    "    algorithm='brute',  \n",
    "    leaf_size=53, \n",
    "    p=2,  \n",
    ")\n",
    "knn.fit(X_resampled_train, y_resampled_train)\n",
    "y_pred2 = knn.predict(X_test)\n",
    "print(\"Classification Report for the first model:\")\n",
    "print(classification_report(y_test, y_pred2))\n",
    "kappa = cohen_kappa_score(y_test, y_pred2)\n",
    "\n",
    "print(\"Kappa:\", kappa)"
   ]
  },
  {
   "cell_type": "code",
   "execution_count": 130,
   "id": "87d7028b-1035-4c5b-a9f6-2b010eb68763",
   "metadata": {},
   "outputs": [
    {
     "name": "stdout",
     "output_type": "stream",
     "text": [
      "Sensitivity (True Positive Rate): 0.75\n"
     ]
    }
   ],
   "source": [
    "y_pred1 = knn.predict(X_test)\n",
    "\n",
    "cm2 = confusion_matrix(y_test, y_pred1)\n",
    "true_positives = cm2[1, 1]\n",
    "false_negatives = cm2[1, 0]\n",
    "\n",
    "sensitivity = true_positives / (true_positives + false_negatives)\n",
    "print(\"Sensitivity (True Positive Rate):\", sensitivity)"
   ]
  },
  {
   "cell_type": "code",
   "execution_count": 131,
   "id": "eae6d45f-412a-4a2e-92df-577d2ab24466",
   "metadata": {},
   "outputs": [
    {
     "data": {
      "text/plain": [
       "0.8087121212121213"
      ]
     },
     "execution_count": 131,
     "metadata": {},
     "output_type": "execute_result"
    }
   ],
   "source": [
    "y_pred_proba1 = knn.predict_proba(X_test)[:, 1]\n",
    "fpr, tpr, thresholds = roc_curve(y_test, y_pred_proba1)\n",
    "roc_auc = auc(fpr, tpr)\n",
    "roc_auc"
   ]
  },
  {
   "cell_type": "code",
   "execution_count": 133,
   "id": "6fc72a32-bd71-4beb-b6d1-f3889d9e2cdf",
   "metadata": {},
   "outputs": [
    {
     "data": {
      "image/png": "[encoded data removed]",
      "text/plain": [
       "<Figure size 1500x500 with 3 Axes>"
      ]
     },
     "metadata": {},
     "output_type": "display_data"
    }
   ],
   "source": [
    "conf_matrices = [cm,cm1,cm2]\n",
    "dark_palette = 'viridis'\n",
    "\n",
    "plt.figure(figsize=(15, 5)) \n",
    "titles = [\"Confusion Matrix KNN\", \"Confusion Matrix KNN+SMOTE\", \"Confusion Matrix KNN+ADASYN\"]\n",
    "for i, (conf_matrix, title) in enumerate(zip(conf_matrices, titles), start=1):\n",
    "    plt.subplot(1, len(conf_matrices), i)\n",
    "    plt.imshow(conf_matrix, cmap=dark_palette, interpolation='nearest')\n",
    "\n",
    "    for x in range(conf_matrix.shape[0]):\n",
    "        for y in range(conf_matrix.shape[1]):\n",
    "            plt.text(y, x, f'{conf_matrix[x, y]}', ha='center', va='center', color='white', fontsize=20)\n",
    "\n",
    "    plt.title(title, fontsize=14, fontweight='bold') \n",
    "    plt.gca().set_xticks([])\n",
    "    plt.gca().set_yticks([])\n",
    "    plt.xlabel('Predicted Label\\n0                  1', fontsize=12)\n",
    "    plt.ylabel('True Label\\n1                       0', fontsize=12)\n",
    "\n",
    "\n",
    "plt.tight_layout()  \n",
    "plt.show()\n"
   ]
  },
  {
   "cell_type": "code",
   "execution_count": null,
   "id": "a039cf5e-40cf-43b6-bad0-61d33a555f2b",
   "metadata": {},
   "outputs": [],
   "source": []
  }
 ],
 "metadata": {
  "kernelspec": {
   "display_name": "Python 3 (ipykernel)",
   "language": "python",
   "name": "python3"
  },
  "language_info": {
   "codemirror_mode": {
    "name": "ipython",
    "version": 3
   },
   "file_extension": ".py",
   "mimetype": "text/x-python",
   "name": "python",
   "nbconvert_exporter": "python",
   "pygments_lexer": "ipython3",
   "version": "3.10.6"
  }
 },
 "nbformat": 4,
 "nbformat_minor": 5
}
