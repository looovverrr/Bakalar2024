{
 "cells": [
  {
   "cell_type": "code",
   "execution_count": 54,
   "id": "afb15bcf-d7d0-47ef-b31d-f62dbd4d1090",
   "metadata": {},
   "outputs": [],
   "source": [
    "from sklearn.tree import DecisionTreeClassifier\n",
    "from sklearn.model_selection import train_test_split\n",
    "from sklearn.metrics import roc_curve, auc\n",
    "import matplotlib.pyplot as plt\n",
    "from imblearn.over_sampling import ADASYN\n",
    "from sklearn.metrics import confusion_matrix\n",
    "from sklearn.metrics import classification_report\n",
    "from sklearn.metrics import accuracy_score\n",
    "from sklearn.metrics import roc_auc_score\n",
    "from imblearn.over_sampling import SMOTE\n",
    "from sklearn.ensemble import RandomForestClassifier\n",
    "from sklearn.linear_model import LogisticRegression\n",
    "from sklearn.neighbors import KNeighborsClassifier\n",
    "import seaborn as sns\n",
    "import pandas as pd\n",
    "import xgboost as xgb\n",
    "from sklearn.metrics import cohen_kappa_score"
   ]
  },
  {
   "cell_type": "markdown",
   "id": "93703bcf-0d54-49e9-ad34-3e77a91c1b05",
   "metadata": {},
   "source": [
    "# Train/Test"
   ]
  },
  {
   "cell_type": "code",
   "execution_count": 8,
   "id": "b7e0ef1a-c2b9-4e61-8ba6-f250c5341594",
   "metadata": {},
   "outputs": [],
   "source": [
    "train_data=pd.read_csv(\"trainschybou.csv\")\n",
    "test_data=pd.read_csv(\"test_data.csv\")"
   ]
  },
  {
   "cell_type": "code",
   "execution_count": 10,
   "id": "ce2d345c-8334-49d8-b78e-5c10cce602bf",
   "metadata": {},
   "outputs": [],
   "source": [
    "train_data=train_data.drop(\"I am currently employed at least part-time\",axis=1)"
   ]
  },
  {
   "cell_type": "code",
   "execution_count": 11,
   "id": "12301b4f-6d21-4636-9e56-797a13a26ce7",
   "metadata": {},
   "outputs": [],
   "source": [
    "test_data=test_data.drop(\"I am currently employed at least part-time\",axis=1)"
   ]
  },
  {
   "cell_type": "code",
   "execution_count": 12,
   "id": "bb3c471b-1551-440e-bcdb-911647332482",
   "metadata": {},
   "outputs": [],
   "source": [
    "columns_order = train_data.columns.tolist()\n",
    "test_data = test_data[columns_order]"
   ]
  },
  {
   "cell_type": "code",
   "execution_count": 13,
   "id": "81923b77-d658-401f-b713-05738fe66478",
   "metadata": {},
   "outputs": [],
   "source": [
    "X_train = train_data.drop('Unemployed', axis=1)\n",
    "y_train = train_data['Unemployed']\n",
    "X_test = test_data.drop('Unemployed', axis=1)\n",
    "y_test = test_data['Unemployed']"
   ]
  },
  {
   "cell_type": "code",
   "execution_count": 14,
   "id": "b7b2ecd9-13d3-409e-bcb7-67736b8935bf",
   "metadata": {},
   "outputs": [
    {
     "data": {
      "text/plain": [
       "0    171\n",
       "1     62\n",
       "Name: Unemployed, dtype: int64"
      ]
     },
     "execution_count": 14,
     "metadata": {},
     "output_type": "execute_result"
    }
   ],
   "source": [
    "train_data[\"Unemployed\"].value_counts()"
   ]
  },
  {
   "cell_type": "code",
   "execution_count": 15,
   "id": "033bd70a-f73f-4376-ab11-b1a041820b88",
   "metadata": {},
   "outputs": [
    {
     "data": {
      "text/plain": [
       "0    77\n",
       "1    24\n",
       "Name: Unemployed, dtype: int64"
      ]
     },
     "execution_count": 15,
     "metadata": {},
     "output_type": "execute_result"
    }
   ],
   "source": [
    "test_data[\"Unemployed\"].value_counts()"
   ]
  },
  {
   "cell_type": "markdown",
   "id": "611ba6ac-1617-4d39-acdc-17031dad9a07",
   "metadata": {},
   "source": [
    "# Decision Tree"
   ]
  },
  {
   "cell_type": "code",
   "execution_count": 134,
   "id": "2812b773-38e3-459e-809f-f658bc1156c6",
   "metadata": {},
   "outputs": [
    {
     "name": "stdout",
     "output_type": "stream",
     "text": [
      "Classification Report:\n",
      "              precision    recall  f1-score   support\n",
      "\n",
      "           0       0.86      0.82      0.84        77\n",
      "           1       0.50      0.58      0.54        24\n",
      "\n",
      "    accuracy                           0.76       101\n",
      "   macro avg       0.68      0.70      0.69       101\n",
      "weighted avg       0.78      0.76      0.77       101\n",
      "\n"
     ]
    }
   ],
   "source": [
    "model = DecisionTreeClassifier(criterion='entropy', max_depth=28, min_samples_split=24, min_samples_leaf=6,random_state=42)\n",
    "model.fit(X_train, y_train)\n",
    "y_pred = model.predict(X_test)\n",
    "print(\"Classification Report:\")\n",
    "print(classification_report(y_test, y_pred))"
   ]
  },
  {
   "cell_type": "code",
   "execution_count": 135,
   "id": "083d7b94-f560-4e89-bab8-ba91b94466ed",
   "metadata": {},
   "outputs": [],
   "source": [
    "y_pred = model.predict(X_test)\n",
    "conf_matrix1 = confusion_matrix(y_test, y_pred)\n"
   ]
  },
  {
   "cell_type": "markdown",
   "id": "ac381c3c-cdd6-4f4f-882c-1c32f036470f",
   "metadata": {},
   "source": [
    "# Decision tree+SMOTE"
   ]
  },
  {
   "cell_type": "code",
   "execution_count": 136,
   "id": "d82e6630-a43b-4e4e-9d25-83a73f07ca49",
   "metadata": {},
   "outputs": [
    {
     "name": "stdout",
     "output_type": "stream",
     "text": [
      "Accuracy: 0.8415841584158416\n",
      "Classification Report:\n",
      "              precision    recall  f1-score   support\n",
      "\n",
      "           0       0.94      0.84      0.89        77\n",
      "           1       0.62      0.83      0.71        24\n",
      "\n",
      "    accuracy                           0.84       101\n",
      "   macro avg       0.78      0.84      0.80       101\n",
      "weighted avg       0.87      0.84      0.85       101\n",
      "\n",
      "Kappa: 0.6077669902912621\n"
     ]
    }
   ],
   "source": [
    "smote = SMOTE(random_state=42, k_neighbors=23, sampling_strategy='minority')\n",
    "X_resampled_train, y_resampled_train = smote.fit_resample(X_train, y_train)\n",
    "model1 = DecisionTreeClassifier(criterion='gini', max_depth=7, min_samples_split=10, min_samples_leaf=8,random_state=42)\n",
    "model1.fit(X_resampled_train, y_resampled_train)\n",
    "y_pred1 = model1.predict(X_test)\n",
    "accuracy = accuracy_score(y_test, y_pred1)\n",
    "print(\"Accuracy:\", accuracy)\n",
    "print(\"Classification Report:\")\n",
    "print(classification_report(y_test, y_pred1))\n",
    "kappa = cohen_kappa_score(y_test, y_pred1)\n",
    "\n",
    "print(\"Kappa:\", kappa)"
   ]
  },
  {
   "cell_type": "code",
   "execution_count": 137,
   "id": "382bd848-9d0e-4197-a41b-e43dcb56e08c",
   "metadata": {},
   "outputs": [
    {
     "name": "stdout",
     "output_type": "stream",
     "text": [
      "Sensitivity (True Positive Rate): 0.8333333333333334\n"
     ]
    }
   ],
   "source": [
    "y_pred1 = model1.predict(X_test)\n",
    "conf_matrix2 = confusion_matrix(y_test, y_pred1)\n",
    "true_positives = conf_matrix2[1, 1]\n",
    "false_negatives = conf_matrix2[1, 0]\n",
    "sensitivity = true_positives / (true_positives + false_negatives)\n",
    "print(\"Sensitivity (True Positive Rate):\", sensitivity)"
   ]
  },
  {
   "cell_type": "code",
   "execution_count": 138,
   "id": "f67424b0-f65e-457c-9aa7-94c04bda69fb",
   "metadata": {},
   "outputs": [
    {
     "data": {
      "text/plain": [
       "0.8495670995670996"
      ]
     },
     "execution_count": 138,
     "metadata": {},
     "output_type": "execute_result"
    }
   ],
   "source": [
    "y_pred_proba1 = model1.predict_proba(X_test)[:, 1]\n",
    "fpr, tpr, thresholds = roc_curve(y_test, y_pred_proba1)\n",
    "roc_auc = auc(fpr, tpr)\n",
    "roc_auc"
   ]
  },
  {
   "cell_type": "markdown",
   "id": "85031f14-7810-451d-9129-1a26683d8fc6",
   "metadata": {},
   "source": [
    "# Decision tree+ADASYN"
   ]
  },
  {
   "cell_type": "code",
   "execution_count": 139,
   "id": "d6e41491-a3ce-4750-b564-2dfe25805cd6",
   "metadata": {},
   "outputs": [
    {
     "name": "stdout",
     "output_type": "stream",
     "text": [
      "Classification Report:\n",
      "              precision    recall  f1-score   support\n",
      "\n",
      "           0       0.91      0.82      0.86        77\n",
      "           1       0.56      0.75      0.64        24\n",
      "\n",
      "    accuracy                           0.80       101\n",
      "   macro avg       0.74      0.78      0.75       101\n",
      "weighted avg       0.83      0.80      0.81       101\n",
      "\n",
      "Kappa: 0.5097087378640777\n"
     ]
    }
   ],
   "source": [
    "adasyn = ADASYN(random_state=42, n_neighbors=48, sampling_strategy='minority')\n",
    "X_resampled_train, y_resampled_train = adasyn.fit_resample(X_train, y_train)\n",
    "model2 = DecisionTreeClassifier(criterion='entropy', max_depth=70, min_samples_split=18, min_samples_leaf=12,random_state=42)\n",
    "model2.fit(X_resampled_train, y_resampled_train)\n",
    "y_pred2 = model2.predict(X_test)\n",
    "print(\"Classification Report:\")\n",
    "print(classification_report(y_test, y_pred2))\n",
    "kappa = cohen_kappa_score(y_test, y_pred2)\n",
    "\n",
    "print(\"Kappa:\", kappa)"
   ]
  },
  {
   "cell_type": "code",
   "execution_count": 140,
   "id": "a1e6705a-01c1-4ceb-bca6-b8f5d6f0c285",
   "metadata": {},
   "outputs": [
    {
     "name": "stdout",
     "output_type": "stream",
     "text": [
      "Sensitivity (True Positive Rate): 0.75\n"
     ]
    }
   ],
   "source": [
    "y_pred2 = model2.predict(X_test)\n",
    "conf_matrix3 = confusion_matrix(y_test, y_pred2)\n",
    "true_positives = conf_matrix3[1, 1]\n",
    "false_negatives = conf_matrix3[1, 0]\n",
    "sensitivity = true_positives / (true_positives + false_negatives)\n",
    "print(\"Sensitivity (True Positive Rate):\", sensitivity)"
   ]
  },
  {
   "cell_type": "code",
   "execution_count": 141,
   "id": "f1a7bb2b-7844-43a7-87cf-67e3b3d2ab52",
   "metadata": {},
   "outputs": [
    {
     "data": {
      "text/plain": [
       "0.7773268398268398"
      ]
     },
     "execution_count": 141,
     "metadata": {},
     "output_type": "execute_result"
    }
   ],
   "source": [
    "y_pred_proba2 = model2.predict_proba(X_test)[:, 1]\n",
    "fpr, tpr, thresholds = roc_curve(y_test, y_pred_proba2)\n",
    "roc_auc = auc(fpr, tpr)\n",
    "roc_auc"
   ]
  },
  {
   "cell_type": "code",
   "execution_count": 166,
   "id": "8638f0b0-be4a-4b2b-9f82-0eedafedb10c",
   "metadata": {},
   "outputs": [
    {
     "data": {
      "image/png": "[encoded data removed]",
      "text/plain": [
       "<Figure size 1500x500 with 3 Axes>"
      ]
     },
     "metadata": {},
     "output_type": "display_data"
    }
   ],
   "source": [
    "conf_matrices = [conf_matrix1, conf_matrix2, conf_matrix3]\n",
    "dark_palette = 'viridis'\n",
    "\n",
    "plt.figure(figsize=(15, 5)) \n",
    "titles = [\"Confusion Matrix DT\", \"Confusion Matrix DT+SMOTE\", \"Confusion Matrix DT+ADASYN\"]\n",
    "for i, (conf_matrix, title) in enumerate(zip(conf_matrices, titles), start=1):\n",
    "    plt.subplot(1, len(conf_matrices), i)\n",
    "    plt.imshow(conf_matrix, cmap=dark_palette, interpolation='nearest')\n",
    "\n",
    "    # Zobrazenie čísel v matici\n",
    "    for x in range(conf_matrix.shape[0]):\n",
    "        for y in range(conf_matrix.shape[1]):\n",
    "            plt.text(y, x, f'{conf_matrix[x, y]}', ha='center', va='center', color='white', fontsize=20)\n",
    "\n",
    "    plt.title(title, fontsize=14, fontweight='bold')  # Pridanie podpisu pre každý graf\n",
    "    plt.gca().set_xticks([])\n",
    "    plt.gca().set_yticks([])\n",
    "    plt.xlabel('Predicted Label\\n0                  1', fontsize=12)\n",
    "    plt.ylabel('True Label\\n1                       0', fontsize=12)\n",
    "\n",
    "\n",
    "plt.tight_layout()  \n",
    "plt.show()\n"
   ]
  },
  {
   "cell_type": "markdown",
   "id": "0a05bb9c-99ca-476a-b170-d49305d6ce8e",
   "metadata": {},
   "source": [
    "# Random forest"
   ]
  },
  {
   "cell_type": "code",
   "execution_count": 167,
   "id": "1db94159-aa95-42dd-9c39-555c5b100b08",
   "metadata": {},
   "outputs": [
    {
     "name": "stdout",
     "output_type": "stream",
     "text": [
      "Classification Report for the first model:\n",
      "              precision    recall  f1-score   support\n",
      "\n",
      "           0       0.84      0.97      0.90        77\n",
      "           1       0.83      0.42      0.56        24\n",
      "\n",
      "    accuracy                           0.84       101\n",
      "   macro avg       0.84      0.70      0.73       101\n",
      "weighted avg       0.84      0.84      0.82       101\n",
      "\n"
     ]
    }
   ],
   "source": [
    "rf_classifier_first_model = RandomForestClassifier(criterion=\"gini\",n_estimators=29, random_state=42,max_depth=43,min_samples_split=18,min_samples_leaf=2)\n",
    "rf_classifier_first_model.fit(X_train, y_train)\n",
    "y_pred = rf_classifier_first_model.predict(X_test)\n",
    "print(\"Classification Report for the first model:\")\n",
    "print(classification_report(y_test, y_pred))"
   ]
  },
  {
   "cell_type": "code",
   "execution_count": 168,
   "id": "8cd0316b-e838-4652-9af1-2b92e2607af5",
   "metadata": {},
   "outputs": [],
   "source": [
    "cm1 = confusion_matrix(y_test, y_pred)"
   ]
  },
  {
   "cell_type": "markdown",
   "id": "3295e214-1fe2-4af1-87c1-c7c268dc1197",
   "metadata": {},
   "source": [
    "# Random forest+SMOTE"
   ]
  },
  {
   "cell_type": "code",
   "execution_count": 169,
   "id": "c1798050-2f08-4657-839c-0bcafa445eaa",
   "metadata": {},
   "outputs": [
    {
     "name": "stdout",
     "output_type": "stream",
     "text": [
      "Classification Report for the second model:\n",
      "              precision    recall  f1-score   support\n",
      "\n",
      "           0       0.90      0.86      0.88        77\n",
      "           1       0.61      0.71      0.65        24\n",
      "\n",
      "    accuracy                           0.82       101\n",
      "   macro avg       0.76      0.78      0.77       101\n",
      "weighted avg       0.83      0.82      0.83       101\n",
      "\n",
      "Kappa: 0.5348004094165815\n"
     ]
    }
   ],
   "source": [
    "smote = SMOTE(random_state=42, k_neighbors=23, sampling_strategy='minority')\n",
    "X_resampled_train, y_resampled_train = smote.fit_resample(X_train, y_train)\n",
    "model_RF_second_model = RandomForestClassifier(criterion=\"entropy\",n_estimators=36,max_depth=13,min_samples_split=8, min_samples_leaf=4,random_state=42)\n",
    "model_RF_second_model.fit(X_resampled_train, y_resampled_train)\n",
    "\n",
    "y_pred_RF_second_model = model_RF_second_model.predict(X_test)\n",
    "\n",
    "print(\"Classification Report for the second model:\")\n",
    "print(classification_report(y_test, y_pred_RF_second_model))\n",
    "kappa = cohen_kappa_score(y_test, y_pred_RF_second_model)\n",
    "\n",
    "print(\"Kappa:\", kappa)"
   ]
  },
  {
   "cell_type": "code",
   "execution_count": 170,
   "id": "33b3ddd0-f963-4cad-96d3-fc6d5c064704",
   "metadata": {},
   "outputs": [
    {
     "name": "stdout",
     "output_type": "stream",
     "text": [
      "Sensitivity (True Positive Rate): 0.7083333333333334\n"
     ]
    }
   ],
   "source": [
    "cm2 = confusion_matrix(y_test, y_pred_RF_second_model)\n",
    "true_positives = cm2[1, 1]\n",
    "false_negatives = cm2[1, 0]\n",
    "sensitivity = true_positives / (true_positives + false_negatives)\n",
    "print(\"Sensitivity (True Positive Rate):\", sensitivity)"
   ]
  },
  {
   "cell_type": "code",
   "execution_count": 171,
   "id": "bf83ad25-0236-467e-bfeb-c46695740779",
   "metadata": {},
   "outputs": [
    {
     "data": {
      "text/plain": [
       "0.801948051948052"
      ]
     },
     "execution_count": 171,
     "metadata": {},
     "output_type": "execute_result"
    }
   ],
   "source": [
    "y_prob_RF_second_model = model_RF_second_model.predict_proba(X_test)[:, 1]\n",
    "fpr, tpr, thresholds = roc_curve(y_test, y_prob_RF_second_model)\n",
    "auc_score = roc_auc_score(y_test, y_prob_RF_second_model)\n",
    "auc_score"
   ]
  },
  {
   "cell_type": "markdown",
   "id": "a0ee41f5-c816-44ae-b0e8-6fef048a18b7",
   "metadata": {},
   "source": [
    "# RF+ADASYN"
   ]
  },
  {
   "cell_type": "code",
   "execution_count": 172,
   "id": "220dd617-6a3f-48a7-913d-581dac1a4ebe",
   "metadata": {},
   "outputs": [
    {
     "name": "stdout",
     "output_type": "stream",
     "text": [
      "Classification Report for the model with ADASYN:\n",
      "              precision    recall  f1-score   support\n",
      "\n",
      "           0       0.91      0.81      0.86        77\n",
      "           1       0.55      0.75      0.63        24\n",
      "\n",
      "    accuracy                           0.79       101\n",
      "   macro avg       0.73      0.78      0.74       101\n",
      "weighted avg       0.82      0.79      0.80       101\n",
      "\n",
      "Kappa: 0.4917325664989216\n"
     ]
    }
   ],
   "source": [
    "adasyn = ADASYN(random_state=42, n_neighbors=40,sampling_strategy='minority')\n",
    "X_resampled_train, y_resampled_train = adasyn.fit_resample(X_train, y_train)\n",
    "model_RF_adasyn = RandomForestClassifier(n_estimators=38,max_depth=58,min_samples_split=30,min_samples_leaf=4,criterion='entropy',random_state=42)\n",
    "model_RF_adasyn.fit(X_resampled_train, y_resampled_train)\n",
    "y_pred_RF_adasyn = model_RF_adasyn.predict(X_test)\n",
    "print(\"Classification Report for the model with ADASYN:\")\n",
    "print(classification_report(y_test, y_pred_RF_adasyn))\n",
    "kappa = cohen_kappa_score(y_test, y_pred_RF_adasyn)\n",
    "\n",
    "print(\"Kappa:\", kappa)"
   ]
  },
  {
   "cell_type": "code",
   "execution_count": 173,
   "id": "959224e8-1835-43dc-b02a-2aebde538319",
   "metadata": {},
   "outputs": [
    {
     "name": "stdout",
     "output_type": "stream",
     "text": [
      "Sensitivity (True Positive Rate): 0.75\n"
     ]
    }
   ],
   "source": [
    "cm3 = confusion_matrix(y_test, y_pred_RF_adasyn)\n",
    "\n",
    "true_positives = cm3[1, 1]\n",
    "false_negatives = cm3[1, 0]\n",
    "sensitivity = true_positives / (true_positives + false_negatives)\n",
    "print(\"Sensitivity (True Positive Rate):\", sensitivity)"
   ]
  },
  {
   "cell_type": "code",
   "execution_count": 174,
   "id": "faa0ea07-f643-4a6d-9000-ba226ceaed46",
   "metadata": {},
   "outputs": [
    {
     "data": {
      "text/plain": [
       "0.8073593073593074"
      ]
     },
     "execution_count": 174,
     "metadata": {},
     "output_type": "execute_result"
    }
   ],
   "source": [
    "y_prob_RF_adasyn = model_RF_adasyn.predict_proba(X_test)[:, 1]\n",
    "fpr, tpr, thresholds = roc_curve(y_test, y_prob_RF_adasyn)\n",
    "auc_score = roc_auc_score(y_test, y_prob_RF_adasyn)\n",
    "auc_score"
   ]
  },
  {
   "cell_type": "code",
   "execution_count": 175,
   "id": "f7fb33f5-0051-4018-af35-3c30c46d27ce",
   "metadata": {},
   "outputs": [
    {
     "data": {
      "image/png": "[encoded data removed]",
      "text/plain": [
       "<Figure size 1500x500 with 3 Axes>"
      ]
     },
     "metadata": {},
     "output_type": "display_data"
    }
   ],
   "source": [
    "conf_matrices = [cm1,cm2,cm3]\n",
    "dark_palette = 'viridis'\n",
    "\n",
    "plt.figure(figsize=(15, 5)) \n",
    "titles = [\"Confusion Matrix RF\", \"Confusion Matrix RF+SMOTE\", \"Confusion Matrix RF+ADASYN\"]\n",
    "for i, (conf_matrix, title) in enumerate(zip(conf_matrices, titles), start=1):\n",
    "    plt.subplot(1, len(conf_matrices), i)\n",
    "    plt.imshow(conf_matrix, cmap=dark_palette, interpolation='nearest')\n",
    "\n",
    "    for x in range(conf_matrix.shape[0]):\n",
    "        for y in range(conf_matrix.shape[1]):\n",
    "            plt.text(y, x, f'{conf_matrix[x, y]}', ha='center', va='center', color='white', fontsize=20)\n",
    "\n",
    "    plt.title(title, fontsize=14, fontweight='bold')\n",
    "    plt.gca().set_xticks([])\n",
    "    plt.gca().set_yticks([])\n",
    "    plt.xlabel('Predicted Label\\n0                  1', fontsize=12)\n",
    "    plt.ylabel('True Label\\n1                       0', fontsize=12)\n",
    "\n",
    "\n",
    "plt.tight_layout()  \n",
    "plt.show()\n"
   ]
  },
  {
   "cell_type": "markdown",
   "id": "813a1359-0176-4e54-a921-a01193ae7431",
   "metadata": {},
   "source": [
    "# XGboost"
   ]
  },
  {
   "cell_type": "code",
   "execution_count": 207,
   "id": "702e4897-01be-4c52-8c9e-ea8a50d7d6b0",
   "metadata": {},
   "outputs": [
    {
     "name": "stdout",
     "output_type": "stream",
     "text": [
      "Kappa: 0.5081168831168831\n"
     ]
    }
   ],
   "source": [
    "best_params = {\n",
    "    'booster': 'dart',\n",
    "    'lambda': 3.6945975185242767e-07,\n",
    "    'alpha': 2.3772338438539695e-07,\n",
    "    'max_depth': 7,\n",
    "    'eta': 0.9927983986268483,\n",
    "    'gamma': 1.3773385393901729e-06,\n",
    "    'grow_policy': 'depthwise',\n",
    "    'subsample': 0.5,\n",
    "    'colsample_bytree': 0.8\n",
    "}\n",
    "best_model = xgb.XGBClassifier(**best_params)\n",
    "best_model.fit(X_train, y_train)\n",
    "y_pred = best_model.predict(X_test)\n",
    "kappa = cohen_kappa_score(y_test, y_pred)\n",
    "\n",
    "print(\"Kappa:\", kappa)"
   ]
  },
  {
   "cell_type": "code",
   "execution_count": 208,
   "id": "e65f6e43-531f-4b71-b2dc-8fc0a7898051",
   "metadata": {},
   "outputs": [
    {
     "name": "stdout",
     "output_type": "stream",
     "text": [
      "              precision    recall  f1-score   support\n",
      "\n",
      "           0       0.88      0.88      0.88        77\n",
      "           1       0.62      0.62      0.62        24\n",
      "\n",
      "    accuracy                           0.82       101\n",
      "   macro avg       0.75      0.75      0.75       101\n",
      "weighted avg       0.82      0.82      0.82       101\n",
      "\n"
     ]
    }
   ],
   "source": [
    "print(classification_report(y_test, y_pred))"
   ]
  },
  {
   "cell_type": "code",
   "execution_count": 209,
   "id": "f78b7733-a390-4162-b5d3-6323f95cb461",
   "metadata": {},
   "outputs": [],
   "source": [
    "conf_matrix = confusion_matrix(y_test, y_pred)"
   ]
  },
  {
   "cell_type": "markdown",
   "id": "a1bd6327-9f65-441c-a9bc-e71b53f3fbe2",
   "metadata": {},
   "source": [
    "# XGBOOST+SMOTE"
   ]
  },
  {
   "cell_type": "code",
   "execution_count": 210,
   "id": "7823cdff-defa-4b28-b75d-91ca8587c347",
   "metadata": {},
   "outputs": [],
   "source": [
    "smote = SMOTE(random_state=42, k_neighbors=25)\n",
    "X_resampled_train, y_resampled_train = smote.fit_resample(X_train, y_train)"
   ]
  },
  {
   "cell_type": "code",
   "execution_count": 211,
   "id": "30bde77a-ee7a-4cde-93ca-940552995666",
   "metadata": {},
   "outputs": [
    {
     "name": "stdout",
     "output_type": "stream",
     "text": [
      "Kappa: 0.5401389887371195\n"
     ]
    }
   ],
   "source": [
    "params = {'booster': 'gbtree',\n",
    "          'lambda': 0.200284799149677,\n",
    "          'alpha': 8.002889184798041e-07,\n",
    "          'max_depth': 6,\n",
    "          'eta': 5.744734190758041e-08,\n",
    "          'gamma': 0.2884056438994821,\n",
    "          'grow_policy': 'lossguide',\n",
    "          'subsample': 0.6,\n",
    "          'colsample_bytree': 1.0\n",
    "         }\n",
    "\n",
    "model = xgb.XGBClassifier(**params)\n",
    "model.fit(X_resampled_train, y_resampled_train)\n",
    "y_pred = model.predict(X_test)\n",
    "kappa = cohen_kappa_score(y_test, y_pred)\n",
    "\n",
    "print(\"Kappa:\", kappa)"
   ]
  },
  {
   "cell_type": "code",
   "execution_count": 212,
   "id": "5e211790-97e2-433e-b4c9-dc48734e81a6",
   "metadata": {},
   "outputs": [
    {
     "name": "stdout",
     "output_type": "stream",
     "text": [
      "              precision    recall  f1-score   support\n",
      "\n",
      "           0       0.93      0.82      0.87        77\n",
      "           1       0.58      0.79      0.67        24\n",
      "\n",
      "    accuracy                           0.81       101\n",
      "   macro avg       0.75      0.80      0.77       101\n",
      "weighted avg       0.84      0.81      0.82       101\n",
      "\n"
     ]
    }
   ],
   "source": [
    "print(classification_report(y_test, y_pred))"
   ]
  },
  {
   "cell_type": "code",
   "execution_count": 213,
   "id": "8f432d13-6f96-494c-81b2-10f70ecb84fa",
   "metadata": {},
   "outputs": [
    {
     "name": "stdout",
     "output_type": "stream",
     "text": [
      "Sensitivity (True Positive Rate): 0.7916666666666666\n"
     ]
    }
   ],
   "source": [
    "conf_matrix1 = confusion_matrix(y_test, y_pred)\n",
    "true_positives = conf_matrix1[1, 1]\n",
    "false_negatives = conf_matrix1[1, 0]\n",
    "\n",
    "sensitivity = true_positives / (true_positives + false_negatives)\n",
    "print(\"Sensitivity (True Positive Rate):\", sensitivity)"
   ]
  },
  {
   "cell_type": "code",
   "execution_count": 214,
   "id": "504e70f0-3763-4ee1-841f-a45fb4a4bccf",
   "metadata": {},
   "outputs": [
    {
     "data": {
      "text/plain": [
       "0.814935064935065"
      ]
     },
     "execution_count": 214,
     "metadata": {},
     "output_type": "execute_result"
    }
   ],
   "source": [
    "y_prob = model.predict_proba(X_test)[:, 1]\n",
    "\n",
    "fpr, tpr, _ = roc_curve(y_test, y_prob)\n",
    "roc_auc = auc(fpr, tpr)\n",
    "roc_auc"
   ]
  },
  {
   "cell_type": "markdown",
   "id": "07c8a13f-7207-4794-8626-c8cb5c83d475",
   "metadata": {},
   "source": [
    "# XGB+ ADASYN"
   ]
  },
  {
   "cell_type": "code",
   "execution_count": 215,
   "id": "250e3776-361f-401c-9e67-3eb45766c334",
   "metadata": {},
   "outputs": [],
   "source": [
    "smote = ADASYN(random_state=42, n_neighbors=40, sampling_strategy='minority')\n",
    "X_resampled_train, y_resampled_train = smote.fit_resample(X_train, y_train)"
   ]
  },
  {
   "cell_type": "code",
   "execution_count": 216,
   "id": "28d3cb42-b3a8-4514-85c1-519d01506cd4",
   "metadata": {},
   "outputs": [
    {
     "name": "stdout",
     "output_type": "stream",
     "text": [
      "Kappa: 0.5097087378640777\n"
     ]
    }
   ],
   "source": [
    "params = {'booster': 'dart',\n",
    "          'lambda': 3.845711513491492e-06,\n",
    "          'alpha': 4.4624993190495044e-07,\n",
    "          'max_depth': 6,\n",
    "          'eta': 0.008217142722894309,\n",
    "          'gamma': 3.7094974306310575e-07,\n",
    "          'grow_policy': 'lossguide',\n",
    "          'subsample': 1.0,\n",
    "          'colsample_bytree': 1.0}\n",
    "model = xgb.XGBClassifier(**params)\n",
    "model.fit(X_resampled_train, y_resampled_train)\n",
    "y_pred = model.predict(X_test)\n",
    "kappa = cohen_kappa_score(y_test, y_pred)\n",
    "\n",
    "print(\"Kappa:\", kappa)"
   ]
  },
  {
   "cell_type": "code",
   "execution_count": 217,
   "id": "34ee011a-3c9f-418b-8fbe-d5bb735ffe27",
   "metadata": {},
   "outputs": [
    {
     "name": "stdout",
     "output_type": "stream",
     "text": [
      "              precision    recall  f1-score   support\n",
      "\n",
      "           0       0.91      0.82      0.86        77\n",
      "           1       0.56      0.75      0.64        24\n",
      "\n",
      "    accuracy                           0.80       101\n",
      "   macro avg       0.74      0.78      0.75       101\n",
      "weighted avg       0.83      0.80      0.81       101\n",
      "\n"
     ]
    }
   ],
   "source": [
    "print(classification_report(y_test, y_pred))"
   ]
  },
  {
   "cell_type": "code",
   "execution_count": 218,
   "id": "9214cc9a-1623-4cda-ba88-16d35bf590b7",
   "metadata": {},
   "outputs": [
    {
     "name": "stdout",
     "output_type": "stream",
     "text": [
      "Sensitivity (True Positive Rate): 0.75\n"
     ]
    }
   ],
   "source": [
    "conf_matrix2 = confusion_matrix(y_test, y_pred)\n",
    "true_positives = conf_matrix2[1, 1]\n",
    "false_negatives = conf_matrix2[1, 0]\n",
    "\n",
    "sensitivity = true_positives / (true_positives + false_negatives)\n",
    "print(\"Sensitivity (True Positive Rate):\", sensitivity)"
   ]
  },
  {
   "cell_type": "code",
   "execution_count": 219,
   "id": "c9a43f90-8682-4f3e-aeee-1ff72bdc2a1d",
   "metadata": {},
   "outputs": [
    {
     "data": {
      "text/plain": [
       "0.8011363636363634"
      ]
     },
     "execution_count": 219,
     "metadata": {},
     "output_type": "execute_result"
    }
   ],
   "source": [
    "y_prob = model.predict_proba(X_test)[:, 1]\n",
    "fpr, tpr, _ = roc_curve(y_test, y_prob)\n",
    "roc_auc = auc(fpr, tpr)\n",
    "roc_auc"
   ]
  },
  {
   "cell_type": "code",
   "execution_count": 220,
   "id": "5b7cb1d9-5f6f-4821-9d87-6877ca587fc5",
   "metadata": {},
   "outputs": [
    {
     "data": {
      "image/png": "[encoded data removed]",
      "text/plain": [
       "<Figure size 1500x500 with 3 Axes>"
      ]
     },
     "metadata": {},
     "output_type": "display_data"
    }
   ],
   "source": [
    "conf_matrices = [conf_matrix,conf_matrix1,conf_matrix2]\n",
    "dark_palette = 'viridis'\n",
    "\n",
    "plt.figure(figsize=(15, 5)) \n",
    "titles = [\"Confusion Matrix XGBoost\", \"Confusion Matrix XGBoost+SMOTE\", \"Confusion Matrix XGBoost+ADASYN\"]\n",
    "for i, (conf_matrix, title) in enumerate(zip(conf_matrices, titles), start=1):\n",
    "    plt.subplot(1, len(conf_matrices), i)\n",
    "    plt.imshow(conf_matrix, cmap=dark_palette, interpolation='nearest')\n",
    "\n",
    "    for x in range(conf_matrix.shape[0]):\n",
    "        for y in range(conf_matrix.shape[1]):\n",
    "            plt.text(y, x, f'{conf_matrix[x, y]}', ha='center', va='center', color='white', fontsize=20)\n",
    "\n",
    "    plt.title(title, fontsize=14, fontweight='bold') \n",
    "    plt.gca().set_xticks([])\n",
    "    plt.gca().set_yticks([])\n",
    "    plt.xlabel('Predicted Label\\n0                  1', fontsize=12)\n",
    "    plt.ylabel('True Label\\n1                       0', fontsize=12)\n",
    "\n",
    "\n",
    "plt.tight_layout()  \n",
    "plt.show()\n"
   ]
  },
  {
   "cell_type": "markdown",
   "id": "69463ba5-28cc-4a02-949a-e203d18192ab",
   "metadata": {},
   "source": [
    "# KNN"
   ]
  },
  {
   "cell_type": "code",
   "execution_count": 190,
   "id": "cb6696f7-b95b-4eba-b5dd-a28d31ac4120",
   "metadata": {},
   "outputs": [],
   "source": [
    "knn = KNeighborsClassifier(\n",
    "    n_neighbors=4,\n",
    "    weights='distance',  \n",
    "    algorithm='brute',  \n",
    "    leaf_size=26,\n",
    "    p=5, \n",
    "    metric='minkowski'\n",
    ")\n",
    "knn.fit(X_train, y_train)\n",
    "y_pred = knn.predict(X_test)"
   ]
  },
  {
   "cell_type": "code",
   "execution_count": 191,
   "id": "a5a7ba06-9c9f-48c8-be2d-b1bdefc68687",
   "metadata": {},
   "outputs": [
    {
     "name": "stdout",
     "output_type": "stream",
     "text": [
      "Classification Report for the first model:\n",
      "              precision    recall  f1-score   support\n",
      "\n",
      "           0       0.86      0.94      0.89        77\n",
      "           1       0.71      0.50      0.59        24\n",
      "\n",
      "    accuracy                           0.83       101\n",
      "   macro avg       0.78      0.72      0.74       101\n",
      "weighted avg       0.82      0.83      0.82       101\n",
      "\n"
     ]
    }
   ],
   "source": [
    "print(\"Classification Report for the first model:\")\n",
    "print(classification_report(y_test, y_pred))"
   ]
  },
  {
   "cell_type": "code",
   "execution_count": 192,
   "id": "351912d1-ed0c-4201-ab45-0d6bf1a1fa9a",
   "metadata": {},
   "outputs": [],
   "source": [
    "cm = confusion_matrix(y_test, y_pred)"
   ]
  },
  {
   "cell_type": "markdown",
   "id": "21b15c78-26a2-4686-804c-37c866c2750a",
   "metadata": {},
   "source": [
    "# KNN+SMOTE"
   ]
  },
  {
   "cell_type": "code",
   "execution_count": 193,
   "id": "6a4dddfc-35d8-42ab-bb7e-1be9221ddf15",
   "metadata": {},
   "outputs": [
    {
     "name": "stdout",
     "output_type": "stream",
     "text": [
      "Classification Report:\n",
      "              precision    recall  f1-score   support\n",
      "\n",
      "           0       0.90      0.83      0.86        77\n",
      "           1       0.57      0.71      0.63        24\n",
      "\n",
      "    accuracy                           0.80       101\n",
      "   macro avg       0.73      0.77      0.75       101\n",
      "weighted avg       0.82      0.80      0.81       101\n",
      "\n",
      "Kappa: 0.4967613353263578\n"
     ]
    }
   ],
   "source": [
    "model = KNeighborsClassifier(n_neighbors=4, weights='distance', p=5, leaf_size=28, algorithm='kd_tree')\n",
    "smote = SMOTE(k_neighbors=17, random_state=42)\n",
    "X_train_resampled, y_train_resampled = smote.fit_resample(X_train, y_train)\n",
    "model.fit(X_train_resampled, y_train_resampled)\n",
    "y_pred = model.predict(X_test)\n",
    "print(\"Classification Report:\")\n",
    "print(classification_report(y_test, y_pred))\n",
    "kappa = cohen_kappa_score(y_test, y_pred)\n",
    "\n",
    "print(\"Kappa:\", kappa)"
   ]
  },
  {
   "cell_type": "code",
   "execution_count": 194,
   "id": "7087595e-4888-4db1-a4d1-2a1fe9d8874c",
   "metadata": {},
   "outputs": [
    {
     "name": "stdout",
     "output_type": "stream",
     "text": [
      "Sensitivity (True Positive Rate): 0.7083333333333334\n"
     ]
    }
   ],
   "source": [
    "y_pred1 = model.predict(X_test)\n",
    "cm1 = confusion_matrix(y_test, y_pred1)\n",
    "true_positives = cm1[1, 1]\n",
    "false_negatives = cm1[1, 0]\n",
    "\n",
    "sensitivity = true_positives / (true_positives + false_negatives)\n",
    "print(\"Sensitivity (True Positive Rate):\", sensitivity)"
   ]
  },
  {
   "cell_type": "code",
   "execution_count": 195,
   "id": "52f49c01-1c8c-4f4d-bdf7-9b02254b8a9b",
   "metadata": {},
   "outputs": [
    {
     "data": {
      "text/plain": [
       "0.8095238095238095"
      ]
     },
     "execution_count": 195,
     "metadata": {},
     "output_type": "execute_result"
    }
   ],
   "source": [
    "y_pred_proba1 = model.predict_proba(X_test)[:, 1]\n",
    "fpr, tpr, thresholds = roc_curve(y_test, y_pred_proba1)\n",
    "roc_auc = auc(fpr, tpr)\n",
    "roc_auc\n"
   ]
  },
  {
   "cell_type": "markdown",
   "id": "d92d713e-bc07-46fc-961f-58c3ad11e3bd",
   "metadata": {},
   "source": [
    "# KNN+ADASYN"
   ]
  },
  {
   "cell_type": "code",
   "execution_count": 196,
   "id": "dfc8ba55-54cf-49fd-9188-0072e5a75fc8",
   "metadata": {},
   "outputs": [],
   "source": [
    "adasyn = ADASYN(random_state=42, n_neighbors=30, sampling_strategy='minority')\n",
    "X_resampled_train, y_resampled_train = adasyn.fit_resample(X_train, y_train)"
   ]
  },
  {
   "cell_type": "code",
   "execution_count": 197,
   "id": "32de50b2-01f5-4b1f-b806-8aa392d07d81",
   "metadata": {},
   "outputs": [
    {
     "name": "stdout",
     "output_type": "stream",
     "text": [
      "Classification Report for the first model:\n",
      "              precision    recall  f1-score   support\n",
      "\n",
      "           0       0.90      0.86      0.88        77\n",
      "           1       0.61      0.71      0.65        24\n",
      "\n",
      "    accuracy                           0.82       101\n",
      "   macro avg       0.76      0.78      0.77       101\n",
      "weighted avg       0.83      0.82      0.83       101\n",
      "\n",
      "Kappa: 0.5348004094165815\n"
     ]
    }
   ],
   "source": [
    "knn = KNeighborsClassifier(\n",
    "    n_neighbors=6,\n",
    "    weights='distance', \n",
    "    algorithm='auto',  \n",
    "    leaf_size=89, \n",
    "    p=3,  \n",
    ")\n",
    "knn.fit(X_resampled_train, y_resampled_train)\n",
    "y_pred2 = knn.predict(X_test)\n",
    "print(\"Classification Report for the first model:\")\n",
    "print(classification_report(y_test, y_pred2))\n",
    "kappa = cohen_kappa_score(y_test, y_pred2)\n",
    "\n",
    "print(\"Kappa:\", kappa)"
   ]
  },
  {
   "cell_type": "code",
   "execution_count": 198,
   "id": "87d7028b-1035-4c5b-a9f6-2b010eb68763",
   "metadata": {},
   "outputs": [
    {
     "name": "stdout",
     "output_type": "stream",
     "text": [
      "Sensitivity (True Positive Rate): 0.7083333333333334\n"
     ]
    }
   ],
   "source": [
    "y_pred1 = knn.predict(X_test)\n",
    "\n",
    "cm2 = confusion_matrix(y_test, y_pred1)\n",
    "true_positives = cm2[1, 1]\n",
    "false_negatives = cm2[1, 0]\n",
    "\n",
    "sensitivity = true_positives / (true_positives + false_negatives)\n",
    "print(\"Sensitivity (True Positive Rate):\", sensitivity)"
   ]
  },
  {
   "cell_type": "code",
   "execution_count": 199,
   "id": "eae6d45f-412a-4a2e-92df-577d2ab24466",
   "metadata": {},
   "outputs": [
    {
     "data": {
      "text/plain": [
       "0.791125541125541"
      ]
     },
     "execution_count": 199,
     "metadata": {},
     "output_type": "execute_result"
    }
   ],
   "source": [
    "y_pred_proba1 = knn.predict_proba(X_test)[:, 1]\n",
    "fpr, tpr, thresholds = roc_curve(y_test, y_pred_proba1)\n",
    "roc_auc = auc(fpr, tpr)\n",
    "roc_auc"
   ]
  },
  {
   "cell_type": "code",
   "execution_count": 200,
   "id": "a88cd81e-a6ea-4741-aded-69a0859519e5",
   "metadata": {},
   "outputs": [
    {
     "data": {
      "image/png": "[encoded data removed]",
      "text/plain": [
       "<Figure size 1500x500 with 3 Axes>"
      ]
     },
     "metadata": {},
     "output_type": "display_data"
    }
   ],
   "source": [
    "conf_matrices = [cm,cm1,cm2]\n",
    "dark_palette = 'viridis'\n",
    "\n",
    "plt.figure(figsize=(15, 5)) \n",
    "titles = [\"Confusion Matrix KNN\", \"Confusion Matrix KNN+SMOTE\", \"Confusion Matrix KNN+ADASYN\"]\n",
    "for i, (conf_matrix, title) in enumerate(zip(conf_matrices, titles), start=1):\n",
    "    plt.subplot(1, len(conf_matrices), i)\n",
    "    plt.imshow(conf_matrix, cmap=dark_palette, interpolation='nearest')\n",
    "\n",
    "    for x in range(conf_matrix.shape[0]):\n",
    "        for y in range(conf_matrix.shape[1]):\n",
    "            plt.text(y, x, f'{conf_matrix[x, y]}', ha='center', va='center', color='white', fontsize=20)\n",
    "\n",
    "    plt.title(title, fontsize=14, fontweight='bold') \n",
    "    plt.gca().set_xticks([])\n",
    "    plt.gca().set_yticks([])\n",
    "    plt.xlabel('Predicted Label\\n0                  1', fontsize=12)\n",
    "    plt.ylabel('True Label\\n1                       0', fontsize=12)\n",
    "\n",
    "\n",
    "plt.tight_layout()  \n",
    "plt.show()\n"
   ]
  }
 ],
 "metadata": {
  "kernelspec": {
   "display_name": "Python 3 (ipykernel)",
   "language": "python",
   "name": "python3"
  },
  "language_info": {
   "codemirror_mode": {
    "name": "ipython",
    "version": 3
   },
   "file_extension": ".py",
   "mimetype": "text/x-python",
   "name": "python",
   "nbconvert_exporter": "python",
   "pygments_lexer": "ipython3",
   "version": "3.10.6"
  }
 },
 "nbformat": 4,
 "nbformat_minor": 5
}
